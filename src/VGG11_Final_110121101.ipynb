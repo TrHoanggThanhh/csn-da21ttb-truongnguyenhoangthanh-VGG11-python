{
  "nbformat": 4,
  "nbformat_minor": 0,
  "metadata": {
    "colab": {
      "provenance": [],
      "gpuType": "T4",
      "toc_visible": true
    },
    "kernelspec": {
      "name": "python3",
      "display_name": "Python 3"
    },
    "language_info": {
      "name": "python"
    },
    "widgets": {
      "application/vnd.jupyter.widget-state+json": {
        "dc755e1eb4464424a7b85b5e47de86c4": {
          "model_module": "@jupyter-widgets/controls",
          "model_name": "VBoxModel",
          "model_module_version": "1.5.0",
          "state": {
            "_dom_classes": [
              "widget-interact"
            ],
            "_model_module": "@jupyter-widgets/controls",
            "_model_module_version": "1.5.0",
            "_model_name": "VBoxModel",
            "_view_count": null,
            "_view_module": "@jupyter-widgets/controls",
            "_view_module_version": "1.5.0",
            "_view_name": "VBoxView",
            "box_style": "",
            "children": [
              "IPY_MODEL_72cd20db59ba4cd980c2bb13a5c24790",
              "IPY_MODEL_53b4506833494577ab650b8156070676"
            ],
            "layout": "IPY_MODEL_219496f232364b0fb72d4f02bef81c59"
          }
        },
        "72cd20db59ba4cd980c2bb13a5c24790": {
          "model_module": "@jupyter-widgets/controls",
          "model_name": "DropdownModel",
          "model_module_version": "1.5.0",
          "state": {
            "_dom_classes": [],
            "_model_module": "@jupyter-widgets/controls",
            "_model_module_version": "1.5.0",
            "_model_name": "DropdownModel",
            "_options_labels": [
              "apple",
              "aquarium_fish",
              "baby",
              "bear",
              "beaver",
              "bed",
              "bee",
              "beetle",
              "bicycle",
              "bottle",
              "bowl",
              "boy",
              "bridge",
              "bus",
              "butterfly",
              "camel",
              "can",
              "castle",
              "caterpillar",
              "cattle",
              "chair",
              "chimpanzee",
              "clock",
              "cloud",
              "cockroach",
              "couch",
              "crab",
              "crocodile",
              "cup",
              "dinosaur",
              "dolphin",
              "elephant",
              "flatfish",
              "forest",
              "fox",
              "girl",
              "hamster",
              "house",
              "kangaroo",
              "keyboard",
              "lamp",
              "lawn_mower",
              "leopard",
              "lion",
              "lizard",
              "lobster",
              "man",
              "maple_tree",
              "motorcycle",
              "mountain",
              "mouse",
              "mushroom",
              "oak_tree",
              "orange",
              "orchid",
              "otter",
              "palm_tree",
              "pear",
              "pickup_truck",
              "pine_tree",
              "plain",
              "plate",
              "poppy",
              "porcupine",
              "possum",
              "rabbit",
              "raccoon",
              "ray",
              "road",
              "rocket",
              "rose",
              "sea",
              "seal",
              "shark",
              "shrew",
              "skunk",
              "skyscraper",
              "snail",
              "snake",
              "spider",
              "squirrel",
              "streetcar",
              "sunflower",
              "sweet_pepper",
              "table",
              "tank",
              "telephone",
              "television",
              "tiger",
              "tractor",
              "train",
              "trout",
              "tulip",
              "turtle",
              "wardrobe",
              "whale",
              "willow_tree",
              "wolf",
              "woman",
              "worm"
            ],
            "_view_count": null,
            "_view_module": "@jupyter-widgets/controls",
            "_view_module_version": "1.5.0",
            "_view_name": "DropdownView",
            "description": "Chọn lớp:",
            "description_tooltip": null,
            "disabled": false,
            "index": 0,
            "layout": "IPY_MODEL_badc9450142b4cdf8cbda8867e92fac9",
            "style": "IPY_MODEL_e53e74632bea47538e4e4d62c7565072"
          }
        },
        "53b4506833494577ab650b8156070676": {
          "model_module": "@jupyter-widgets/output",
          "model_name": "OutputModel",
          "model_module_version": "1.0.0",
          "state": {
            "_dom_classes": [],
            "_model_module": "@jupyter-widgets/output",
            "_model_module_version": "1.0.0",
            "_model_name": "OutputModel",
            "_view_count": null,
            "_view_module": "@jupyter-widgets/output",
            "_view_module_version": "1.0.0",
            "_view_name": "OutputView",
            "layout": "IPY_MODEL_d6d134d420214c2dbfbbde1ac75ee9b1",
            "msg_id": "",
            "outputs": [
              {
                "output_type": "stream",
                "name": "stdout",
                "text": [
                  "Số lượng ảnh trong lớp 'apple': 500\n"
                ]
              }
            ]
          }
        },
        "219496f232364b0fb72d4f02bef81c59": {
          "model_module": "@jupyter-widgets/base",
          "model_name": "LayoutModel",
          "model_module_version": "1.2.0",
          "state": {
            "_model_module": "@jupyter-widgets/base",
            "_model_module_version": "1.2.0",
            "_model_name": "LayoutModel",
            "_view_count": null,
            "_view_module": "@jupyter-widgets/base",
            "_view_module_version": "1.2.0",
            "_view_name": "LayoutView",
            "align_content": null,
            "align_items": null,
            "align_self": null,
            "border": null,
            "bottom": null,
            "display": null,
            "flex": null,
            "flex_flow": null,
            "grid_area": null,
            "grid_auto_columns": null,
            "grid_auto_flow": null,
            "grid_auto_rows": null,
            "grid_column": null,
            "grid_gap": null,
            "grid_row": null,
            "grid_template_areas": null,
            "grid_template_columns": null,
            "grid_template_rows": null,
            "height": null,
            "justify_content": null,
            "justify_items": null,
            "left": null,
            "margin": null,
            "max_height": null,
            "max_width": null,
            "min_height": null,
            "min_width": null,
            "object_fit": null,
            "object_position": null,
            "order": null,
            "overflow": null,
            "overflow_x": null,
            "overflow_y": null,
            "padding": null,
            "right": null,
            "top": null,
            "visibility": null,
            "width": null
          }
        },
        "badc9450142b4cdf8cbda8867e92fac9": {
          "model_module": "@jupyter-widgets/base",
          "model_name": "LayoutModel",
          "model_module_version": "1.2.0",
          "state": {
            "_model_module": "@jupyter-widgets/base",
            "_model_module_version": "1.2.0",
            "_model_name": "LayoutModel",
            "_view_count": null,
            "_view_module": "@jupyter-widgets/base",
            "_view_module_version": "1.2.0",
            "_view_name": "LayoutView",
            "align_content": null,
            "align_items": null,
            "align_self": null,
            "border": null,
            "bottom": null,
            "display": null,
            "flex": null,
            "flex_flow": null,
            "grid_area": null,
            "grid_auto_columns": null,
            "grid_auto_flow": null,
            "grid_auto_rows": null,
            "grid_column": null,
            "grid_gap": null,
            "grid_row": null,
            "grid_template_areas": null,
            "grid_template_columns": null,
            "grid_template_rows": null,
            "height": null,
            "justify_content": null,
            "justify_items": null,
            "left": null,
            "margin": null,
            "max_height": null,
            "max_width": null,
            "min_height": null,
            "min_width": null,
            "object_fit": null,
            "object_position": null,
            "order": null,
            "overflow": null,
            "overflow_x": null,
            "overflow_y": null,
            "padding": null,
            "right": null,
            "top": null,
            "visibility": null,
            "width": null
          }
        },
        "e53e74632bea47538e4e4d62c7565072": {
          "model_module": "@jupyter-widgets/controls",
          "model_name": "DescriptionStyleModel",
          "model_module_version": "1.5.0",
          "state": {
            "_model_module": "@jupyter-widgets/controls",
            "_model_module_version": "1.5.0",
            "_model_name": "DescriptionStyleModel",
            "_view_count": null,
            "_view_module": "@jupyter-widgets/base",
            "_view_module_version": "1.2.0",
            "_view_name": "StyleView",
            "description_width": "initial"
          }
        },
        "d6d134d420214c2dbfbbde1ac75ee9b1": {
          "model_module": "@jupyter-widgets/base",
          "model_name": "LayoutModel",
          "model_module_version": "1.2.0",
          "state": {
            "_model_module": "@jupyter-widgets/base",
            "_model_module_version": "1.2.0",
            "_model_name": "LayoutModel",
            "_view_count": null,
            "_view_module": "@jupyter-widgets/base",
            "_view_module_version": "1.2.0",
            "_view_name": "LayoutView",
            "align_content": null,
            "align_items": null,
            "align_self": null,
            "border": null,
            "bottom": null,
            "display": null,
            "flex": null,
            "flex_flow": null,
            "grid_area": null,
            "grid_auto_columns": null,
            "grid_auto_flow": null,
            "grid_auto_rows": null,
            "grid_column": null,
            "grid_gap": null,
            "grid_row": null,
            "grid_template_areas": null,
            "grid_template_columns": null,
            "grid_template_rows": null,
            "height": null,
            "justify_content": null,
            "justify_items": null,
            "left": null,
            "margin": null,
            "max_height": null,
            "max_width": null,
            "min_height": null,
            "min_width": null,
            "object_fit": null,
            "object_position": null,
            "order": null,
            "overflow": null,
            "overflow_x": null,
            "overflow_y": null,
            "padding": null,
            "right": null,
            "top": null,
            "visibility": null,
            "width": null
          }
        },
        "252e1a1b8a724343ad5de87d27198fa2": {
          "model_module": "@jupyter-widgets/controls",
          "model_name": "VBoxModel",
          "model_module_version": "1.5.0",
          "state": {
            "_dom_classes": [
              "widget-interact"
            ],
            "_model_module": "@jupyter-widgets/controls",
            "_model_module_version": "1.5.0",
            "_model_name": "VBoxModel",
            "_view_count": null,
            "_view_module": "@jupyter-widgets/controls",
            "_view_module_version": "1.5.0",
            "_view_name": "VBoxView",
            "box_style": "",
            "children": [
              "IPY_MODEL_1bd471572c444274825eae79400bc2ad",
              "IPY_MODEL_61f3ae3c4be2414ab8b43b86addc7cc7"
            ],
            "layout": "IPY_MODEL_5c91ded506cf46779ee15c0a36e5c1d5"
          }
        },
        "1bd471572c444274825eae79400bc2ad": {
          "model_module": "@jupyter-widgets/controls",
          "model_name": "DropdownModel",
          "model_module_version": "1.5.0",
          "state": {
            "_dom_classes": [],
            "_model_module": "@jupyter-widgets/controls",
            "_model_module_version": "1.5.0",
            "_model_name": "DropdownModel",
            "_options_labels": [
              "apple",
              "aquarium_fish",
              "baby",
              "bear",
              "beaver",
              "bed",
              "bee",
              "beetle",
              "bicycle",
              "bottle",
              "bowl",
              "boy",
              "bridge",
              "bus",
              "butterfly",
              "camel",
              "can",
              "castle",
              "caterpillar",
              "cattle",
              "chair",
              "chimpanzee",
              "clock",
              "cloud",
              "cockroach",
              "couch",
              "crab",
              "crocodile",
              "cup",
              "dinosaur",
              "dolphin",
              "elephant",
              "flatfish",
              "forest",
              "fox",
              "girl",
              "hamster",
              "house",
              "kangaroo",
              "keyboard",
              "lamp",
              "lawn_mower",
              "leopard",
              "lion",
              "lizard",
              "lobster",
              "man",
              "maple_tree",
              "motorcycle",
              "mountain",
              "mouse",
              "mushroom",
              "oak_tree",
              "orange",
              "orchid",
              "otter",
              "palm_tree",
              "pear",
              "pickup_truck",
              "pine_tree",
              "plain",
              "plate",
              "poppy",
              "porcupine",
              "possum",
              "rabbit",
              "raccoon",
              "ray",
              "road",
              "rocket",
              "rose",
              "sea",
              "seal",
              "shark",
              "shrew",
              "skunk",
              "skyscraper",
              "snail",
              "snake",
              "spider",
              "squirrel",
              "streetcar",
              "sunflower",
              "sweet_pepper",
              "table",
              "tank",
              "telephone",
              "television",
              "tiger",
              "tractor",
              "train",
              "trout",
              "tulip",
              "turtle",
              "wardrobe",
              "whale",
              "willow_tree",
              "wolf",
              "woman",
              "worm"
            ],
            "_view_count": null,
            "_view_module": "@jupyter-widgets/controls",
            "_view_module_version": "1.5.0",
            "_view_name": "DropdownView",
            "description": "Chọn lớp:",
            "description_tooltip": null,
            "disabled": false,
            "index": 0,
            "layout": "IPY_MODEL_7e163e873e7d425fbd811c85f984ee2b",
            "style": "IPY_MODEL_ca057da1d2c746a0aea2944390b93f10"
          }
        },
        "61f3ae3c4be2414ab8b43b86addc7cc7": {
          "model_module": "@jupyter-widgets/output",
          "model_name": "OutputModel",
          "model_module_version": "1.0.0",
          "state": {
            "_dom_classes": [],
            "_model_module": "@jupyter-widgets/output",
            "_model_module_version": "1.0.0",
            "_model_name": "OutputModel",
            "_view_count": null,
            "_view_module": "@jupyter-widgets/output",
            "_view_module_version": "1.0.0",
            "_view_name": "OutputView",
            "layout": "IPY_MODEL_f7c7a706259845aaa27eb39e26869e9e",
            "msg_id": "",
            "outputs": [
              {
                "output_type": "display_data",
                "data": {
                  "text/plain": "<Figure size 1000x600 with 1 Axes>",
                  "image/png": "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\n"
                },
                "metadata": {}
              }
            ]
          }
        },
        "5c91ded506cf46779ee15c0a36e5c1d5": {
          "model_module": "@jupyter-widgets/base",
          "model_name": "LayoutModel",
          "model_module_version": "1.2.0",
          "state": {
            "_model_module": "@jupyter-widgets/base",
            "_model_module_version": "1.2.0",
            "_model_name": "LayoutModel",
            "_view_count": null,
            "_view_module": "@jupyter-widgets/base",
            "_view_module_version": "1.2.0",
            "_view_name": "LayoutView",
            "align_content": null,
            "align_items": null,
            "align_self": null,
            "border": null,
            "bottom": null,
            "display": null,
            "flex": null,
            "flex_flow": null,
            "grid_area": null,
            "grid_auto_columns": null,
            "grid_auto_flow": null,
            "grid_auto_rows": null,
            "grid_column": null,
            "grid_gap": null,
            "grid_row": null,
            "grid_template_areas": null,
            "grid_template_columns": null,
            "grid_template_rows": null,
            "height": null,
            "justify_content": null,
            "justify_items": null,
            "left": null,
            "margin": null,
            "max_height": null,
            "max_width": null,
            "min_height": null,
            "min_width": null,
            "object_fit": null,
            "object_position": null,
            "order": null,
            "overflow": null,
            "overflow_x": null,
            "overflow_y": null,
            "padding": null,
            "right": null,
            "top": null,
            "visibility": null,
            "width": null
          }
        },
        "7e163e873e7d425fbd811c85f984ee2b": {
          "model_module": "@jupyter-widgets/base",
          "model_name": "LayoutModel",
          "model_module_version": "1.2.0",
          "state": {
            "_model_module": "@jupyter-widgets/base",
            "_model_module_version": "1.2.0",
            "_model_name": "LayoutModel",
            "_view_count": null,
            "_view_module": "@jupyter-widgets/base",
            "_view_module_version": "1.2.0",
            "_view_name": "LayoutView",
            "align_content": null,
            "align_items": null,
            "align_self": null,
            "border": null,
            "bottom": null,
            "display": null,
            "flex": null,
            "flex_flow": null,
            "grid_area": null,
            "grid_auto_columns": null,
            "grid_auto_flow": null,
            "grid_auto_rows": null,
            "grid_column": null,
            "grid_gap": null,
            "grid_row": null,
            "grid_template_areas": null,
            "grid_template_columns": null,
            "grid_template_rows": null,
            "height": null,
            "justify_content": null,
            "justify_items": null,
            "left": null,
            "margin": null,
            "max_height": null,
            "max_width": null,
            "min_height": null,
            "min_width": null,
            "object_fit": null,
            "object_position": null,
            "order": null,
            "overflow": null,
            "overflow_x": null,
            "overflow_y": null,
            "padding": null,
            "right": null,
            "top": null,
            "visibility": null,
            "width": null
          }
        },
        "ca057da1d2c746a0aea2944390b93f10": {
          "model_module": "@jupyter-widgets/controls",
          "model_name": "DescriptionStyleModel",
          "model_module_version": "1.5.0",
          "state": {
            "_model_module": "@jupyter-widgets/controls",
            "_model_module_version": "1.5.0",
            "_model_name": "DescriptionStyleModel",
            "_view_count": null,
            "_view_module": "@jupyter-widgets/base",
            "_view_module_version": "1.2.0",
            "_view_name": "StyleView",
            "description_width": "initial"
          }
        },
        "f7c7a706259845aaa27eb39e26869e9e": {
          "model_module": "@jupyter-widgets/base",
          "model_name": "LayoutModel",
          "model_module_version": "1.2.0",
          "state": {
            "_model_module": "@jupyter-widgets/base",
            "_model_module_version": "1.2.0",
            "_model_name": "LayoutModel",
            "_view_count": null,
            "_view_module": "@jupyter-widgets/base",
            "_view_module_version": "1.2.0",
            "_view_name": "LayoutView",
            "align_content": null,
            "align_items": null,
            "align_self": null,
            "border": null,
            "bottom": null,
            "display": null,
            "flex": null,
            "flex_flow": null,
            "grid_area": null,
            "grid_auto_columns": null,
            "grid_auto_flow": null,
            "grid_auto_rows": null,
            "grid_column": null,
            "grid_gap": null,
            "grid_row": null,
            "grid_template_areas": null,
            "grid_template_columns": null,
            "grid_template_rows": null,
            "height": null,
            "justify_content": null,
            "justify_items": null,
            "left": null,
            "margin": null,
            "max_height": null,
            "max_width": null,
            "min_height": null,
            "min_width": null,
            "object_fit": null,
            "object_position": null,
            "order": null,
            "overflow": null,
            "overflow_x": null,
            "overflow_y": null,
            "padding": null,
            "right": null,
            "top": null,
            "visibility": null,
            "width": null
          }
        }
      }
    },
    "accelerator": "GPU"
  },
  "cells": [
    {
      "cell_type": "markdown",
      "source": [
        "# **📚 Huấn luyện Mô hình VGG11**\n",
        "\n",
        "## **🎯 Mục tiêu**\n",
        "- Xây dựng và huấn luyện **mô hình VGG11** để **phân loại ảnh** trong tập dữ liệu **CIFAR-100**.\n",
        "- Thực hiện các bước cơ bản:\n",
        "  - **Tiền xử lý dữ liệu**.\n",
        "  - **Tăng cường dữ liệu** (*Data Augmentation*).\n",
        "  - **Phân chia dữ liệu** thành các tập: Huấn luyện, Validation, và Kiểm tra.\n",
        "- Đánh giá mô hình qua các chỉ số quan trọng:\n",
        "  - **Loss** (*Hàm mất mát*).\n",
        "  - **Accuracy** (*Độ chính xác*).\n",
        "  - **Thời gian huấn luyện**.\n",
        "- Phân tích kết quả thông qua các biểu đồ trực quan:\n",
        "  - Biểu đồ **Loss** và **Accuracy**.\n",
        "  - **Confusion Matrix** (*Ma trận nhầm lẫn*).\n",
        "\n",
        "## **🚀 Yêu cầu trước khi bắt đầu**\n",
        "\n",
        "> **Cấu hình Google Colab với GPU**\n",
        "- Truy cập vào menu **Runtime** (Thời gian chạy).\n",
        "- Chọn **Change runtime type** (Thay đổi kiểu môi trường).\n",
        "- Trong mục **Hardware accelerator** (Trình tăng tốc phần cứng), chọn: **T4 GPU**.\n",
        "- Nhấn nút **Save** (Lưu) để lưu thay đổi.\n",
        "\n",
        "## **⚡ Chạy đoạn mã dưới đây để thực hiện:**\n",
        "\n"
      ],
      "metadata": {
        "id": "YUvb7ZanYHSt"
      }
    },
    {
      "cell_type": "code",
      "source": [
        "# 0.1. Import thư viện PyTorch để kiểm tra GPU\n",
        "import torch\n",
        "\n",
        "# 0.2. Xác định thiết bị (device) đang sử dụng: \"cuda\" (GPU) nếu khả dụng, ngược lại là \"cpu\"\n",
        "device = torch.device(\"cuda\" if torch.cuda.is_available() else \"cpu\")\n",
        "\n",
        "# 0.3. Kiểm tra nếu thiết bị là GPU\n",
        "if device.type == 'cuda':\n",
        "    # 0.3.1. Lấy tên GPU đang được sử dụng\n",
        "    gpu_name = torch.cuda.get_device_name(0)\n",
        "    # 0.3.2. Lấy tổng dung lượng bộ nhớ GPU (VRAM) và chuyển đổi sang đơn vị GB\n",
        "    vram_total = torch.cuda.get_device_properties(0).total_memory / 1024**3\n",
        "    # 0.3.3. Hiển thị thông tin về GPU\n",
        "    print(f\"✅ Đang sử dụng GPU: {gpu_name}\")\n",
        "    print(f\"🔹 Tổng bộ nhớ GPU (VRAM): {vram_total:.2f} GB\")\n",
        "else:\n",
        "    # 0.3.4. Nếu không có GPU, thông báo sử dụng CPU và yêu cầu bật GPU trong Google Colab\n",
        "    print(\"❌ Đang sử dụng CPU. Vui lòng bật GPU trong Google Colab!\")"
      ],
      "metadata": {
        "colab": {
          "base_uri": "https://localhost:8080/"
        },
        "id": "AqsRNDOjTZOf",
        "outputId": "1880f198-0df2-4176-a7af-e4f7aeec7c80"
      },
      "execution_count": null,
      "outputs": [
        {
          "output_type": "stream",
          "name": "stdout",
          "text": [
            "✅ Đang sử dụng GPU: Tesla T4\n",
            "🔹 Tổng bộ nhớ GPU (VRAM): 14.75 GB\n"
          ]
        }
      ]
    },
    {
      "cell_type": "markdown",
      "source": [
        "# **1. Chuẩn bị môi trường**\n",
        "\n",
        "> Để chuẩn bị cho việc xây dựng và huấn luyện mô hình, cần thực hiện các bước sau:\n",
        "> - Nạp các thư viện cần thiết để xử lý dữ liệu và xây dựng mô hình.\n",
        "> - Kết nối Google Drive (nếu dữ liệu được lưu trên Drive).\n",
        "> - Xác định đường dẫn đến các tệp dữ liệu và tải chúng vào chương trình.\n",
        "> - Khám phá dữ liệu để hiểu rõ cấu trúc và nội dung trước khi huấn luyện.\n"
      ],
      "metadata": {
        "id": "_MWjnoYn7BNs"
      }
    },
    {
      "cell_type": "markdown",
      "source": [
        "## **1.1. Import thư viện cần thiết**"
      ],
      "metadata": {
        "id": "kw5cJ7gpYM9E"
      }
    },
    {
      "cell_type": "code",
      "source": [
        "# Import thư viện cơ bản\n",
        "from google.colab import drive                                                   # Liên kết Google Drive\n",
        "import torch                                                                     # Thư viện PyTorch\n",
        "import numpy as np                                                               # Xử lý mảng\n",
        "import pickle                                                                    # Đọc/ghi file dữ liệu nhị phân\n",
        "import os                                                                        # Thao tác với hệ thống tệp\n",
        "import urllib.request\n",
        "import tarfile\n",
        "\n",
        "# Import thư viện xử lý và tăng cường dữ liệu\n",
        "from torchvision import transforms\n",
        "from torch.utils.data import Dataset, DataLoader, random_split\n",
        "\n",
        "# Import các module cho mô hình học sâu\n",
        "import torch.nn as nn\n",
        "import torch.optim as optim\n",
        "from torch.amp import GradScaler, autocast\n",
        "\n",
        "# Các thư viện hỗ trợ khác\n",
        "import time                                                                      # Đo thời gian\n",
        "import json                                                                      # Lưu trữ dữ liệu\n",
        "import matplotlib.pyplot as plt                                                  # Vẽ biểu đồ\n",
        "import pandas as pd                                                              # Xử lý dữ liệu dạng bảng\n",
        "import random                                                                    # Xử lý ngẫu nhiên\n",
        "from collections import Counter                                                  # Đếm tần suất\n",
        "from ipywidgets import interact, widgets                                         # 1.3.8.\n",
        "import matplotlib.pyplot as plt                                                  # 1.3.8.\n",
        "import base64                                                                    # 1.7.\n",
        "from io import BytesIO                                                           # 1.7.\n",
        "from PIL import Image\n",
        "\n",
        "# Mục 8.\n",
        "import matplotlib.pyplot as plt                                                  # Thư viện vẽ biểu đồ cơ bản\n",
        "import seaborn as sns                                                            # Thư viện vẽ biểu đồ nâng cao\n",
        "import numpy as np                                                               # Xử lý mảng số học\n",
        "import pandas as pd                                                              # Xử lý dữ liệu dạng bảng\n",
        "from sklearn.metrics import confusion_matrix, ConfusionMatrixDisplay             # Đánh giá hiệu suất"
      ],
      "metadata": {
        "id": "BKBMWOdF7USk"
      },
      "execution_count": null,
      "outputs": []
    },
    {
      "cell_type": "markdown",
      "source": [
        "## **1.2. Liên kết Google Drive**\n",
        "\n",
        "> Liên kết Google Drive để truy cập và sử dụng các tập dữ liệu đã được lưu trữ."
      ],
      "metadata": {
        "id": "_UFZwfWQ7FFN"
      }
    },
    {
      "cell_type": "code",
      "source": [
        "# 1.2. Liên kết Google Drive\n",
        "from google.colab import drive\n",
        "drive.mount('/content/drive', force_remount=True)"
      ],
      "metadata": {
        "id": "_C2fgqtu5qEx",
        "colab": {
          "base_uri": "https://localhost:8080/"
        },
        "outputId": "5c7f3a3d-67e3-46cd-e21d-001ffb21c9be"
      },
      "execution_count": null,
      "outputs": [
        {
          "output_type": "stream",
          "name": "stdout",
          "text": [
            "Mounted at /content/drive\n"
          ]
        }
      ]
    },
    {
      "cell_type": "markdown",
      "source": [
        "## **1.3. Tải và thiết lập CIFAR-100**\n",
        "\n",
        "> Khai báo đường dẫn đến các tập dữ liệu huấn luyện và tập kiểm tra được lưu trữ trong Google Drive."
      ],
      "metadata": {
        "id": "ugAF8Nsn7qVF"
      }
    },
    {
      "cell_type": "code",
      "source": [
        "# 1.3.1. Tải và thiết lập đường dẫn đến tập dữ liệu\n",
        "# Đường dẫn URL chứa dữ liệu CIFAR-100\n",
        "CIFAR100_URL = \"https://www.cs.toronto.edu/~kriz/cifar-100-python.tar.gz\"\n",
        "\n",
        "# Đường dẫn thư mục lưu trữ dữ liệu\n",
        "DATA_PATH = '/content/drive/MyDrive/'\n",
        "\n",
        "def download_and_extract_cifar100(data_path, url):\n",
        "    \"\"\"\n",
        "    Hàm tải và giải nén dữ liệu CIFAR-100.\n",
        "    \"\"\"\n",
        "    if not os.path.exists(data_path):\n",
        "        os.makedirs(data_path)\n",
        "\n",
        "    # Đường dẫn file nén\n",
        "    tar_path = os.path.join(data_path, \"cifar-100-python.tar.gz\")\n",
        "\n",
        "    # Tải file nếu chưa tồn tại\n",
        "    if not os.path.exists(tar_path):\n",
        "        print(\"Đang tải dữ liệu CIFAR-100...\")\n",
        "        urllib.request.urlretrieve(url, tar_path)\n",
        "        print(\"Tải thành công.\")\n",
        "    else:\n",
        "        print(\"File dữ liệu đã tồn tại, bỏ qua bước tải.\")\n",
        "\n",
        "    # Giải nén file\n",
        "    print(\"Đang giải nén dữ liệu...\")\n",
        "    with tarfile.open(tar_path, \"r:gz\") as tar:\n",
        "        tar.extractall(path=data_path)\n",
        "    print(\"Giải nén thành công.\")\n",
        "\n",
        "    # Xác minh kết quả\n",
        "    extracted_path = os.path.join(data_path, 'cifar-100-python')\n",
        "    if os.path.exists(extracted_path):\n",
        "        print(f\"Dữ liệu đã được giải nén tại: {extracted_path}\")\n",
        "    else:\n",
        "        print(\"Có lỗi trong quá trình giải nén.\")\n",
        "\n",
        "# Gọi hàm để tải và giải nén dữ liệu\n",
        "download_and_extract_cifar100(DATA_PATH, CIFAR100_URL)\n",
        "\n",
        "# Đường dẫn sau khi giải nén\n",
        "TRAIN_PATH = os.path.join(DATA_PATH, 'cifar-100-python', 'train')  # Đường dẫn tập train\n",
        "TEST_PATH = os.path.join(DATA_PATH, 'cifar-100-python', 'test')    # Đường dẫn tập test\n",
        "META_PATH = os.path.join(DATA_PATH, 'cifar-100-python', 'meta')    # Đường dẫn meta\n",
        "meta_path = os.path.join(DATA_PATH, 'cifar-100-python', 'meta')\n",
        "\n",
        "print(f\"Đường dẫn đến tập huấn luyện: {TRAIN_PATH}\")\n",
        "print(f\"Đường dẫn đến tập kiểm tra: {TEST_PATH}\")\n",
        "print(f\"Đường dẫn đến meta: {META_PATH}\")"
      ],
      "metadata": {
        "id": "vbSseGmVcBjA",
        "colab": {
          "base_uri": "https://localhost:8080/"
        },
        "outputId": "8a1d912f-85a8-4bf3-e92a-fc438d7a1349"
      },
      "execution_count": null,
      "outputs": [
        {
          "output_type": "stream",
          "name": "stdout",
          "text": [
            "File dữ liệu đã tồn tại, bỏ qua bước tải.\n",
            "Đang giải nén dữ liệu...\n",
            "Giải nén thành công.\n",
            "Dữ liệu đã được giải nén tại: /content/drive/MyDrive/cifar-100-python\n",
            "Đường dẫn đến tập huấn luyện: /content/drive/MyDrive/cifar-100-python/train\n",
            "Đường dẫn đến tập kiểm tra: /content/drive/MyDrive/cifar-100-python/test\n",
            "Đường dẫn đến meta: /content/drive/MyDrive/cifar-100-python/meta\n"
          ]
        }
      ]
    },
    {
      "cell_type": "code",
      "source": [
        "# 1.3.2. Liệt kê các tệp trong thư mục dữ liệu\n",
        "# Đường dẫn đến thư mục dữ liệu sau khi giải nén\n",
        "DATA_PATH = '/content/drive/MyDrive/cifar-100-python/'\n",
        "\n",
        "# Liệt kê các file trong thư mục\n",
        "train_files = os.listdir(DATA_PATH)\n",
        "print(f\"Các tệp trong thư mục dữ liệu: {train_files}\")"
      ],
      "metadata": {
        "id": "BY9uPMnt7yOW",
        "colab": {
          "base_uri": "https://localhost:8080/"
        },
        "outputId": "51893da8-d4d4-4395-a4ab-877539d4b43d"
      },
      "execution_count": null,
      "outputs": [
        {
          "output_type": "stream",
          "name": "stdout",
          "text": [
            "Các tệp trong thư mục dữ liệu: ['file.txt~', 'train', 'meta', 'test']\n"
          ]
        }
      ]
    },
    {
      "cell_type": "code",
      "source": [
        "# 1.3.3. Tải dữ liệu huấn luyện, kiểm tra và meta từ các tệp pickle\n",
        "with open(os.path.join(DATA_PATH, 'train'), 'rb') as f:\n",
        "    train_data = pickle.load(f, encoding='bytes')                                # Tải dữ liệu huấn luyện từ tệp 'train'\n",
        "with open(os.path.join(DATA_PATH, 'test'), 'rb') as f:\n",
        "    test_data = pickle.load(f, encoding='bytes')                                 # Tải dữ liệu kiểm tra từ tệp 'test'\n",
        "with open(os.path.join(DATA_PATH, 'meta'), 'rb') as f:\n",
        "    meta_data = pickle.load(f, encoding='bytes')                                 # Tải dữ liệu thông tin lớp từ tệp 'meta'\n",
        "with open(meta_path, 'rb') as f:\n",
        "    meta_data = pickle.load(f, encoding='bytes')                                 # Tải lại dữ liệu meta, phục vụ cho mục 7"
      ],
      "metadata": {
        "id": "GA6sQ85Jb4bD"
      },
      "execution_count": null,
      "outputs": []
    },
    {
      "cell_type": "code",
      "source": [
        "# 1.3.4. Hiển thị thông tin về số lượng ảnh (cải tiến)\n",
        "\n",
        "# 1.3.4.1. Tính toán số lượng ảnh\n",
        "num_train_images = len(train_data[b'data'])                                                   # Tổng số ảnh trong tập huấn luyện\n",
        "num_test_images = len(test_data[b'data'])                                                     # Tổng số ảnh trong tập kiểm tra\n",
        "total_images = num_train_images + num_test_images                                             # Tổng số ảnh\n",
        "\n",
        "# 1.3.4.2. Tính tỷ lệ phần trăm\n",
        "train_percentage = (num_train_images / total_images) * 100                                    # Tỷ lệ dữ liệu huấn luyện\n",
        "test_percentage = (num_test_images / total_images) * 100                                      # Tỷ lệ dữ liệu kiểm tra\n",
        "\n",
        "# 1.3.4.3. In thông tin chi tiết\n",
        "print(f\"Tổng số ảnh trong tập dữ liệu: {total_images}\")\n",
        "print(f\"Tổng số ảnh trong tập huấn luyện: {num_train_images} ({train_percentage:.2f}%)\")\n",
        "print(f\"Tổng số ảnh trong tập kiểm tra: {num_test_images} ({test_percentage:.2f}%)\\n\")\n",
        "\n",
        "# 1.3.4.4. Hiển thị tỷ lệ bằng biểu đồ tròn\n",
        "labels = ['Train Data', 'Test Data']\n",
        "sizes = [num_train_images, num_test_images]\n",
        "colors = ['skyblue', 'salmon']\n",
        "explode = (0.1, 0)                                                                            # Nổi bật phần Train Data\n",
        "\n",
        "plt.figure(figsize=(8, 8))\n",
        "plt.pie(\n",
        "    sizes, labels=labels, autopct='%1.1f%%', startangle=140, colors=colors, explode=explode,\n",
        "    wedgeprops={'edgecolor': 'black'}                                                         # Viền đen để nổi bật\n",
        ")\n",
        "plt.title(\"Tỷ lệ dữ liệu huấn luyện và kiểm tra\", fontsize=16, fontweight='bold')\n",
        "plt.axis('equal')                                                                             # Đảm bảo biểu đồ hình tròn cân đối\n",
        "plt.show()"
      ],
      "metadata": {
        "id": "HMgAQO4ObTv3",
        "colab": {
          "base_uri": "https://localhost:8080/",
          "height": 750
        },
        "outputId": "63521fdd-4ab8-4bea-df3e-bccc6d3ec900"
      },
      "execution_count": null,
      "outputs": [
        {
          "output_type": "stream",
          "name": "stdout",
          "text": [
            "Tổng số ảnh trong tập dữ liệu: 60000\n",
            "Tổng số ảnh trong tập huấn luyện: 50000 (83.33%)\n",
            "Tổng số ảnh trong tập kiểm tra: 10000 (16.67%)\n",
            "\n"
          ]
        },
        {
          "output_type": "display_data",
          "data": {
            "text/plain": [
              "<Figure size 800x800 with 1 Axes>"
            ],
            "image/png": "[encoded data removed]"
          },
          "metadata": {}
        }
      ]
    },
    {
      "cell_type": "code",
      "source": [
        "# 1.3.5. Đọc thông tin tên các lớp và phân loại chính từ tệp meta (tăng khoảng cách giữa các cột)\n",
        "\n",
        "# 1.3.5.2. Lấy danh sách các loại con và loại lớn từ dữ liệu meta\n",
        "fine_classes = meta_data[b'fine_label_names']                                                               # Danh sách tên loại con (fine classes)\n",
        "coarse_classes = meta_data[b'coarse_label_names']                                                           # Danh sách tên loại lớn (coarse classes)\n",
        "\n",
        "# 1.3.5.3. In tổng số loại lớn và loại con\n",
        "total_fine_classes = len(fine_classes)                                                                      # Tổng số loại con\n",
        "total_coarse_classes = len(coarse_classes)                                                                  # Tổng số loại lớn\n",
        "\n",
        "print(f\"Tổng số loại con (fine classes) trong tập dữ liệu: {total_fine_classes}\")\n",
        "print(f\"Tổng số loại lớn (coarse classes) trong tập dữ liệu: {total_coarse_classes}\\n\")\n",
        "\n",
        "# 1.3.5.4. Hiển thị danh sách các loại lớn (coarse classes) theo dạng bảng (tăng khoảng cách)\n",
        "print(\"Danh sách các loại lớp lớn (coarse classes):\")\n",
        "num_columns_coarse = 4                                                                                      # Số cột hiển thị cho loại lớn\n",
        "rows_coarse = total_coarse_classes // num_columns_coarse + (total_coarse_classes % num_columns_coarse > 0)  # Tính số dòng\n",
        "\n",
        "formatted_coarse_table = []                                                                                 # Danh sách lưu bảng đã định dạng\n",
        "for i in range(rows_coarse):\n",
        "    row = []\n",
        "    for j in range(num_columns_coarse):\n",
        "        idx = i + j * rows_coarse\n",
        "        if idx < total_coarse_classes:\n",
        "            row.append(f\"{idx:2}: {coarse_classes[idx].decode('utf-8'):<40}\")                               # Format tên lớp (độ rộng cố định 45 ký tự)\n",
        "        else:\n",
        "            row.append(\"\")                                                                                  # Thêm ô trống nếu không đủ dữ liệu\n",
        "    formatted_coarse_table.append(row)\n",
        "\n",
        "# In danh sách các loại lớn theo từng dòng\n",
        "for row in formatted_coarse_table:\n",
        "    print(\"\".join(row))                                                                                     # In từng dòng với khoảng cách đồng đều\n",
        "\n",
        "# 1.3.5.5. Hiển thị danh sách các loại con (fine classes) theo dạng bảng\n",
        "print(\"\\nDanh sách các loại lớp con (fine classes):\")\n",
        "num_columns_fine = 4                                                                                        # Số cột hiển thị cho loại con\n",
        "rows_fine = total_fine_classes // num_columns_fine + (total_fine_classes % num_columns_fine > 0)            # Tính số dòng\n",
        "\n",
        "formatted_fine_table = []                                                                                   # Danh sách lưu bảng đã định dạng\n",
        "for i in range(rows_fine):\n",
        "    row = []\n",
        "    for j in range(num_columns_fine):\n",
        "        idx = i + j * rows_fine\n",
        "        if idx < total_fine_classes:\n",
        "            row.append(f\"{idx:2}: {fine_classes[idx].decode('utf-8'):<25}\")                                 # Format tên lớp (độ rộng cố định 25 ký tự)\n",
        "        else:\n",
        "            row.append(\"\")                                                                                  # Thêm ô trống nếu không đủ dữ liệu\n",
        "    formatted_fine_table.append(row)\n",
        "\n",
        "# In danh sách các loại con theo từng dòng\n",
        "for row in formatted_fine_table:\n",
        "    print(\"\".join(row))                                                                                     # In từng dòng với khoảng cách đồng đều"
      ],
      "metadata": {
        "id": "__9WW4gKbjES",
        "colab": {
          "base_uri": "https://localhost:8080/"
        },
        "outputId": "18165e9b-fc55-4029-e0f9-5b80e3b4360f"
      },
      "execution_count": null,
      "outputs": [
        {
          "output_type": "stream",
          "name": "stdout",
          "text": [
            "Tổng số loại con (fine classes) trong tập dữ liệu: 100\n",
            "Tổng số loại lớn (coarse classes) trong tập dữ liệu: 20\n",
            "\n",
            "Danh sách các loại lớp lớn (coarse classes):\n",
            " 0: aquatic_mammals                          5: household_electrical_devices            10: large_natural_outdoor_scenes            15: reptiles                                \n",
            " 1: fish                                     6: household_furniture                     11: large_omnivores_and_herbivores          16: small_mammals                           \n",
            " 2: flowers                                  7: insects                                 12: medium_mammals                          17: trees                                   \n",
            " 3: food_containers                          8: large_carnivores                        13: non-insect_invertebrates                18: vehicles_1                              \n",
            " 4: fruit_and_vegetables                     9: large_man-made_outdoor_things           14: people                                  19: vehicles_2                              \n",
            "\n",
            "Danh sách các loại lớp con (fine classes):\n",
            " 0: apple                    25: couch                    50: mouse                    75: skunk                    \n",
            " 1: aquarium_fish            26: crab                     51: mushroom                 76: skyscraper               \n",
            " 2: baby                     27: crocodile                52: oak_tree                 77: snail                    \n",
            " 3: bear                     28: cup                      53: orange                   78: snake                    \n",
            " 4: beaver                   29: dinosaur                 54: orchid                   79: spider                   \n",
            " 5: bed                      30: dolphin                  55: otter                    80: squirrel                 \n",
            " 6: bee                      31: elephant                 56: palm_tree                81: streetcar                \n",
            " 7: beetle                   32: flatfish                 57: pear                     82: sunflower                \n",
            " 8: bicycle                  33: forest                   58: pickup_truck             83: sweet_pepper             \n",
            " 9: bottle                   34: fox                      59: pine_tree                84: table                    \n",
            "10: bowl                     35: girl                     60: plain                    85: tank                     \n",
            "11: boy                      36: hamster                  61: plate                    86: telephone                \n",
            "12: bridge                   37: house                    62: poppy                    87: television               \n",
            "13: bus                      38: kangaroo                 63: porcupine                88: tiger                    \n",
            "14: butterfly                39: keyboard                 64: possum                   89: tractor                  \n",
            "15: camel                    40: lamp                     65: rabbit                   90: train                    \n",
            "16: can                      41: lawn_mower               66: raccoon                  91: trout                    \n",
            "17: castle                   42: leopard                  67: ray                      92: tulip                    \n",
            "18: caterpillar              43: lion                     68: road                     93: turtle                   \n",
            "19: cattle                   44: lizard                   69: rocket                   94: wardrobe                 \n",
            "20: chair                    45: lobster                  70: rose                     95: whale                    \n",
            "21: chimpanzee               46: man                      71: sea                      96: willow_tree              \n",
            "22: clock                    47: maple_tree               72: seal                     97: wolf                     \n",
            "23: cloud                    48: motorcycle               73: shark                    98: woman                    \n",
            "24: cockroach                49: mountain                 74: shrew                    99: worm                     \n"
          ]
        }
      ]
    },
    {
      "cell_type": "code",
      "source": [
        "# 1.3.6. Hiển thị ngẫu nhiên các ảnh từ tập huấn luyện (có thông tin pixel)\n",
        "\n",
        "class_names = meta_data[b'fine_label_names']                                                                    # Load danh sách tên lớp con (fine classes)\n",
        "\n",
        "# 1.3.6.1. Thiết lập hiển thị 5 ảnh ngẫu nhiên\n",
        "fig, axes = plt.subplots(1, 5, figsize=(15, 3))                                                                 # Tạo khung hiển thị với 5 cột\n",
        "for i in range(5):\n",
        "    # 1.3.6.2. Chọn ngẫu nhiên một ảnh từ tập huấn luyện\n",
        "    random_idx = random.randint(0, num_train_images - 1)                                                        # Chỉ số ngẫu nhiên\n",
        "    image = train_data[b'data'][random_idx].reshape(3, 32, 32).transpose(1, 2, 0)                               # Chuyển đổi định dạng ảnh\n",
        "    label = train_data[b'fine_labels'][random_idx]                                                              # Lấy nhãn tương ứng\n",
        "\n",
        "    # 1.3.6.3. Tính thông tin pixel\n",
        "    mean_pixel = image.mean()                                                                                   # Giá trị pixel trung bình\n",
        "    min_pixel = image.min()                                                                                     # Giá trị pixel nhỏ nhất\n",
        "    max_pixel = image.max()                                                                                     # Giá trị pixel lớn nhất\n",
        "\n",
        "    # 1.3.6.4. Hiển thị ảnh và nhãn\n",
        "    axes[i].imshow(image)                                                                                       # Hiển thị ảnh\n",
        "    axes[i].axis('off')                                                                                         # Tắt khung viền xung quanh\n",
        "    axes[i].set_title(\n",
        "        f\"{class_names[label].decode('utf-8')}\\nMean: {mean_pixel:.1f}\\nMin: {min_pixel}\\nMax: {max_pixel}\",\n",
        "        fontsize=10                                                                                             # Đặt tiêu đề với thông tin pixel\n",
        "    )\n",
        "\n",
        "# 1.3.6.5. Đặt tiêu đề chung cho toàn bộ biểu đồ\n",
        "plt.suptitle(\"Hiển thị 5 ảnh ngẫu nhiên từ tập huấn luyện kèm thông tin chi tiết về pixel\", fontsize=16)\n",
        "plt.tight_layout()                                                                                              # Điều chỉnh khoảng cách giữa các ảnh\n",
        "plt.show()"
      ],
      "metadata": {
        "id": "E9y1LZZkcSme",
        "colab": {
          "base_uri": "https://localhost:8080/",
          "height": 212
        },
        "outputId": "200e8e9d-3bd4-4449-fdef-e867e7e09a9c"
      },
      "execution_count": null,
      "outputs": [
        {
          "output_type": "display_data",
          "data": {
            "text/plain": [
              "<Figure size 1500x300 with 5 Axes>"
            ],
            "image/png": "[encoded data removed]"
          },
          "metadata": {}
        }
      ]
    },
    {
      "cell_type": "code",
      "source": [
        "# 1.3.7. Biểu đồ số lượng ảnh trong mỗi lớp\n",
        "\n",
        "# 1.3.7.1. Đếm số lượng ảnh theo từng lớp\n",
        "labels = train_data[b'fine_labels']                                              # Lấy danh sách các nhãn trong tập huấn luyện\n",
        "label_counts = Counter(labels)                                                   # Đếm tần suất xuất hiện của từng nhãn\n",
        "\n",
        "# 1.3.7.2. Vẽ biểu đồ cột thể hiện số lượng ảnh trong từng lớp\n",
        "plt.figure(figsize=(12, 6))                                                      # Kích thước biểu đồ\n",
        "plt.bar(label_counts.keys(), label_counts.values())                              # Tạo biểu đồ cột\n",
        "plt.xlabel('Lớp', fontsize=14)                                                   # Nhãn trục X\n",
        "plt.ylabel('Số lượng ảnh', fontsize=14)                                          # Nhãn trục Y\n",
        "plt.title('Số lượng ảnh trong mỗi lớp (Train Data)', fontsize=18)                # Tiêu đề biểu đồ\n",
        "\n",
        "# 1.3.7.3. Tùy chỉnh nhãn trục X\n",
        "plt.xticks(\n",
        "    ticks=list(label_counts.keys()),\n",
        "    labels=[class_names[i].decode('utf-8') for i in label_counts.keys()],\n",
        "    rotation=90                                                                  # Xoay nhãn trục X 90 độ\n",
        ")\n",
        "\n",
        "# 1.3.7.4. Căn chỉnh và hiển thị biểu đồ\n",
        "plt.tight_layout()                                                               # Căn chỉnh biểu đồ để không bị tràn khung\n",
        "plt.show()"
      ],
      "metadata": {
        "id": "6tNGlS0NchlC",
        "colab": {
          "base_uri": "https://localhost:8080/",
          "height": 465
        },
        "outputId": "a0cf1ae8-9058-4402-9ce5-037378873188"
      },
      "execution_count": null,
      "outputs": [
        {
          "output_type": "display_data",
          "data": {
            "text/plain": [
              "<Figure size 1200x600 with 1 Axes>"
            ],
            "image/png": "[encoded data removed]"
          },
          "metadata": {}
        }
      ]
    },
    {
      "cell_type": "code",
      "source": [
        "# 1.3.8. Hiển thị ảnh theo lựa chọn của người dùng (thêm khoảng cách)\n",
        "\n",
        "class_names = meta_data[b'fine_label_names']                                                             # Load danh sách tên lớp con (fine classes)\n",
        "\n",
        "# 1.3.8.1. Thêm mô tả phía trên menu\n",
        "print(\"Chọn một lớp từ danh sách bên dưới để xem 5 ảnh ngẫu nhiên thuộc lớp đó:\")\n",
        "\n",
        "# 1.3.8.2. Hàm hiển thị ảnh của một lớp được chọn\n",
        "def show_images_for_class(class_name):\n",
        "    # Tìm chỉ số của lớp được chọn\n",
        "    class_idx = [i for i, name in enumerate(class_names) if name.decode('utf-8') == class_name][0]\n",
        "\n",
        "    # Lấy tất cả ảnh thuộc lớp này\n",
        "    class_images = [train_data[b'data'][idx].reshape(3, 32, 32).transpose(1, 2, 0)\n",
        "                    for idx, label in enumerate(train_data[b'fine_labels']) if label == class_idx]\n",
        "\n",
        "    # Hiển thị 5 ảnh ngẫu nhiên từ lớp\n",
        "    fig, axes = plt.subplots(1, 5, figsize=(15, 3))\n",
        "    plt.subplots_adjust(top=0.8)                                                                         # Thêm khoảng cách phía trên giữa dropdown và ảnh\n",
        "    for i in range(5):\n",
        "        axes[i].imshow(class_images[i])                                                                  # Hiển thị ảnh\n",
        "        axes[i].axis('off')                                                                              # Tắt viền\n",
        "        axes[i].set_title(class_name, fontsize=10)                                                       # Tên lớp\n",
        "\n",
        "    # Tiêu đề chung\n",
        "    plt.suptitle(f\"5 ảnh ngẫu nhiên từ lớp: {class_name}\", fontsize=16)\n",
        "    plt.show()\n",
        "\n",
        "# 1.3.8.3. Dropdown menu để chọn lớp\n",
        "class_dropdown = widgets.Dropdown(\n",
        "    options=[name.decode('utf-8') for name in class_names],\n",
        "    description='Lớp:',\n",
        "    style={'description_width': 'initial'}\n",
        ")\n",
        "\n",
        "# 1.3.8.4. Tích hợp dropdown với hàm hiển thị ảnh\n",
        "interact(show_images_for_class, class_name=class_dropdown)"
      ],
      "metadata": {
        "id": "V8d5N1Wbe8OL"
      },
      "execution_count": null,
      "outputs": []
    },
    {
      "cell_type": "code",
      "source": [
        "# 1.3.9. Hiển thị số lượng ảnh của từng lớp bằng giao diện tương tác\n",
        "\n",
        "# 1.3.9.1. Hàm hiển thị số lượng ảnh cho một lớp cụ thể\n",
        "def show_class_image_count(class_name):\n",
        "    # Tìm chỉ số của lớp được chọn\n",
        "    class_idx = [i for i, name in enumerate(class_names) if name.decode('utf-8') == class_name][0]\n",
        "\n",
        "    # Đếm số lượng ảnh thuộc lớp đó\n",
        "    count = sum(1 for label in train_data[b'fine_labels'] if label == class_idx)\n",
        "    print(f\"Số lượng ảnh trong lớp '{class_name}': {count}\")\n",
        "\n",
        "# 1.3.9.2. Dropdown menu để chọn lớp\n",
        "class_dropdown = widgets.Dropdown(\n",
        "    options=[name.decode('utf-8') for name in class_names],\n",
        "    description='Chọn lớp:',\n",
        "    style={'description_width': 'initial'}\n",
        ")\n",
        "\n",
        "# 1.3.9.3. Tích hợp với giao diện tương tác\n",
        "interact(show_class_image_count, class_name=class_dropdown)"
      ],
      "metadata": {
        "id": "-IUzubMcj2Jt",
        "colab": {
          "base_uri": "https://localhost:8080/",
          "height": 153,
          "referenced_widgets": [
            "dc755e1eb4464424a7b85b5e47de86c4",
            "72cd20db59ba4cd980c2bb13a5c24790",
            "53b4506833494577ab650b8156070676",
            "219496f232364b0fb72d4f02bef81c59",
            "badc9450142b4cdf8cbda8867e92fac9",
            "e53e74632bea47538e4e4d62c7565072",
            "d6d134d420214c2dbfbbde1ac75ee9b1"
          ]
        },
        "outputId": "04ea1cca-e55d-489c-d763-c0c7bf60170b"
      },
      "execution_count": null,
      "outputs": [
        {
          "output_type": "display_data",
          "data": {
            "text/plain": [
              "interactive(children=(Dropdown(description='Chọn lớp:', options=('apple', 'aquarium_fish', 'baby', 'bear', 'be…"
            ],
            "application/vnd.jupyter.widget-view+json": {
              "version_major": 2,
              "version_minor": 0,
              "model_id": "dc755e1eb4464424a7b85b5e47de86c4"
            }
          },
          "metadata": {}
        },
        {
          "output_type": "execute_result",
          "data": {
            "text/plain": [
              "<function __main__.show_class_image_count(class_name)>"
            ],
            "text/html": [
              "<div style=\"max-width:800px; border: 1px solid var(--colab-border-color);\"><style>\n",
              "      pre.function-repr-contents {\n",
              "        overflow-x: auto;\n",
              "        padding: 8px 12px;\n",
              "        max-height: 500px;\n",
              "      }\n",
              "\n",
              "      pre.function-repr-contents.function-repr-contents-collapsed {\n",
              "        cursor: pointer;\n",
              "        max-height: 100px;\n",
              "      }\n",
              "    </style>\n",
              "    <pre style=\"white-space: initial; background:\n",
              "         var(--colab-secondary-surface-color); padding: 8px 12px;\n",
              "         border-bottom: 1px solid var(--colab-border-color);\"><b>show_class_image_count</b><br/>def show_class_image_count(class_name)</pre><pre class=\"function-repr-contents function-repr-contents-collapsed\" style=\"\"><a class=\"filepath\" style=\"display:none\" href=\"#\">/content/&lt;ipython-input-12-8fed24315a99&gt;</a>&lt;no docstring&gt;</pre></div>"
            ]
          },
          "metadata": {},
          "execution_count": 12
        }
      ]
    },
    {
      "cell_type": "code",
      "source": [
        "# 1.3.10. Giao diện tương tác để vẽ biểu đồ phân bố giá trị pixel\n",
        "\n",
        "# 1.3.10.1. Thêm mô tả phía trên menu\n",
        "print(\"Chọn một lớp từ danh sách bên dưới để xem 5 ảnh ngẫu nhiên thuộc lớp đó:\")\n",
        "\n",
        "# 1.3.10.2. Hàm vẽ biểu đồ phân bố giá trị pixel của một lớp\n",
        "def plot_pixel_distribution(class_name):\n",
        "    # Tìm chỉ số của lớp được chọn\n",
        "    class_idx = [i for i, name in enumerate(class_names) if name.decode('utf-8') == class_name][0]\n",
        "\n",
        "    # Lấy tất cả ảnh thuộc lớp được chọn\n",
        "    class_images = [train_data[b'data'][idx] for idx, label in enumerate(train_data[b'fine_labels']) if label == class_idx]\n",
        "    pixel_values = np.concatenate(class_images).flatten()  # Kết hợp tất cả ảnh và làm phẳng\n",
        "\n",
        "    # Vẽ biểu đồ phân bố\n",
        "    plt.figure(figsize=(10, 6))\n",
        "    plt.hist(pixel_values, bins=50, color='skyblue', edgecolor='black')\n",
        "    plt.xlabel('Giá trị pixel', fontsize=14)\n",
        "    plt.ylabel('Tần suất', fontsize=14)\n",
        "    plt.title(f'Phân bố giá trị pixel của lớp: {class_name}', fontsize=16, fontweight='bold')\n",
        "    plt.show()\n",
        "\n",
        "# 1.3.10.3. Dropdown menu để chọn lớp\n",
        "class_dropdown = widgets.Dropdown(\n",
        "    options=[name.decode('utf-8') for name in class_names],\n",
        "    description='Chọn lớp:',\n",
        "    style={'description_width': 'initial'}\n",
        ")\n",
        "\n",
        "# 1.3.10.4. Tích hợp với giao diện tương tác\n",
        "interact(plot_pixel_distribution, class_name=class_dropdown)"
      ],
      "metadata": {
        "id": "oCllB1ZtkGY1",
        "colab": {
          "base_uri": "https://localhost:8080/",
          "height": 711,
          "referenced_widgets": [
            "252e1a1b8a724343ad5de87d27198fa2",
            "1bd471572c444274825eae79400bc2ad",
            "61f3ae3c4be2414ab8b43b86addc7cc7",
            "5c91ded506cf46779ee15c0a36e5c1d5",
            "7e163e873e7d425fbd811c85f984ee2b",
            "ca057da1d2c746a0aea2944390b93f10",
            "f7c7a706259845aaa27eb39e26869e9e"
          ]
        },
        "outputId": "6af0c476-d650-4fa7-f59b-3bf7a53b59a8"
      },
      "execution_count": null,
      "outputs": [
        {
          "output_type": "stream",
          "name": "stdout",
          "text": [
            "Chọn một lớp từ danh sách bên dưới để xem 5 ảnh ngẫu nhiên thuộc lớp đó:\n"
          ]
        },
        {
          "output_type": "display_data",
          "data": {
            "text/plain": [
              "interactive(children=(Dropdown(description='Chọn lớp:', options=('apple', 'aquarium_fish', 'baby', 'bear', 'be…"
            ],
            "application/vnd.jupyter.widget-view+json": {
              "version_major": 2,
              "version_minor": 0,
              "model_id": "252e1a1b8a724343ad5de87d27198fa2"
            }
          },
          "metadata": {}
        },
        {
          "output_type": "execute_result",
          "data": {
            "text/plain": [
              "<function __main__.plot_pixel_distribution(class_name)>"
            ],
            "text/html": [
              "<div style=\"max-width:800px; border: 1px solid var(--colab-border-color);\"><style>\n",
              "      pre.function-repr-contents {\n",
              "        overflow-x: auto;\n",
              "        padding: 8px 12px;\n",
              "        max-height: 500px;\n",
              "      }\n",
              "\n",
              "      pre.function-repr-contents.function-repr-contents-collapsed {\n",
              "        cursor: pointer;\n",
              "        max-height: 100px;\n",
              "      }\n",
              "    </style>\n",
              "    <pre style=\"white-space: initial; background:\n",
              "         var(--colab-secondary-surface-color); padding: 8px 12px;\n",
              "         border-bottom: 1px solid var(--colab-border-color);\"><b>plot_pixel_distribution</b><br/>def plot_pixel_distribution(class_name)</pre><pre class=\"function-repr-contents function-repr-contents-collapsed\" style=\"\"><a class=\"filepath\" style=\"display:none\" href=\"#\">/content/&lt;ipython-input-13-e78bd0af2ab6&gt;</a>&lt;no docstring&gt;</pre></div>"
            ]
          },
          "metadata": {},
          "execution_count": 13
        }
      ]
    },
    {
      "cell_type": "markdown",
      "source": [
        "## **1.4. Tạo lớp Dataset tùy chỉnh**\n",
        "- Để xử lý dữ liệu CIFAR-100 hiệu quả hơn, cần xây dựng một lớp Dataset tùy chỉnh.  \n",
        "> Lớp này sẽ giúp:\n",
        "  - Quản lý dữ liệu ảnh và nhãn tương ứng.\n",
        "  - Tạo điều kiện thuận lợi cho việc sử dụng trong DataLoader để huấn luyện mô hình.\n",
        "\n",
        "- Ví dụ dễ hiểu hơn, lớp này giống như **người quản lý**, giúp chia dữ liệu thành từng **ảnh và nhãn** để mô hình học được."
      ],
      "metadata": {
        "id": "DVNdz2Eg8IHL"
      }
    },
    {
      "cell_type": "code",
      "source": [
        "# 1.4. Xây dựng lớp Dataset cho CIFAR-100\n",
        "\n",
        "# 1.4.1. Định nghĩa lớp Dataset cho CIFAR-100\n",
        "class CIFAR100Dataset(Dataset):\n",
        "    # 1.4.2. Khởi tạo lớp với các tham số: dữ liệu, nhãn và hàm xử lý ảnh (nếu có)\n",
        "    def __init__(self, data, labels, transform=None):\n",
        "        self.data = data                                                                                  # Lưu trữ dữ liệu ảnh\n",
        "        self.labels = labels                                                                              # Lưu trữ nhãn tương ứng với từng ảnh\n",
        "        self.transform = transform                                                                        # Lưu trữ hàm xử lý ảnh (nếu có)\n",
        "\n",
        "    # 1.4.3. Trả về tổng số mẫu trong tập dữ liệu\n",
        "    def __len__(self):\n",
        "        return len(self.data)                                                                             # Trả về số lượng mẫu trong dữ liệu\n",
        "\n",
        "    # 1.4.4. Trả về một ảnh và nhãn tương ứng tại vị trí idx\n",
        "    def __getitem__(self, idx):\n",
        "        # 1.4.5. Lấy ảnh tại chỉ số idx và chuyển đổi thành định dạng (3, 32, 32) để phù hợp với PyTorch\n",
        "        image = self.data[idx].reshape(3, 32, 32).transpose(1, 2, 0)                                      # Chuyển ảnh từ định dạng (32, 32, 3) thành (3, 32, 32)\n",
        "\n",
        "        # 1.4.6. Lấy nhãn của ảnh tại chỉ số idx\n",
        "        label = self.labels[idx]                                                                          # Nhãn tương ứng với ảnh\n",
        "\n",
        "        # 1.4.7. Nếu có hàm xử lý ảnh (transform), áp dụng lên ảnh\n",
        "        if self.transform:\n",
        "            image = self.transform(image)                                                                 # Áp dụng biến đổi (như chuẩn hóa, xoay ảnh, v.v.)\n",
        "\n",
        "        # 1.4.8. Trả về ảnh và nhãn (ảnh được chuyển thành Tensor)\n",
        "        return image, label                                                                               # Trả về ảnh và nhãn, ảnh có thể đã được xử lý"
      ],
      "metadata": {
        "id": "LEmu5MaN8jbq"
      },
      "execution_count": null,
      "outputs": []
    },
    {
      "cell_type": "markdown",
      "source": [
        "## **1.5. Tiền xử lý dữ liệu**\n",
        "\n",
        "Trước khi huấn luyện mô hình, cần tải dữ liệu và xử lý để đảm bảo mô hình hoạt động tốt hơn.  \n",
        "> Các bước thực hiện:\n",
        "  - **Tải dữ liệu**: Lấy dữ liệu từ các tệp `pickle` của tập CIFAR-100.\n",
        "  - **Tăng cường dữ liệu**: Áp dụng các kỹ thuật như lật ảnh, cắt ảnh để làm phong phú tập huấn luyện.\n",
        "  - **Chuẩn hóa dữ liệu**: Chuyển giá trị pixel về khoảng [-1, 1] để cải thiện quá trình học của mô hình.\n"
      ],
      "metadata": {
        "id": "EoBB8x719AS1"
      }
    },
    {
      "cell_type": "code",
      "source": [
        "# 1.5.1. Tải dữ liệu từ tệp pickle\n",
        "with open(TRAIN_PATH, 'rb') as f:\n",
        "    train_data = pickle.load(f, encoding='bytes')                                # Tải tập dữ liệu huấn luyện từ tệp pickle\n",
        "with open(TEST_PATH, 'rb') as f:\n",
        "    test_data = pickle.load(f, encoding='bytes')                                 # Tải tập dữ liệu kiểm tra từ tệp pickle\n",
        "\n",
        "# 1.5.2. Tăng cường dữ liệu cho tập huấn luyện\n",
        "train_transform = transforms.Compose([\n",
        "    transforms.ToPILImage(),                                                     # Chuyển ảnh từ dạng số sang ảnh PIL (hỗ trợ xử lý ảnh dễ dàng hơn)\n",
        "    transforms.Resize((32, 32)),                                                 # Thay đổi kích thước ảnh về 32x32 (đảm bảo đồng nhất kích thước)\n",
        "    transforms.RandomHorizontalFlip(),                                           # Lật ngang ảnh ngẫu nhiên để tăng cường dữ liệu\n",
        "    transforms.RandomCrop(32, padding=4),                                        # Cắt ảnh ngẫu nhiên với viền đệm 4 pixel\n",
        "    transforms.ToTensor(),                                                       # Chuyển ảnh từ PIL sang Tensor (định dạng PyTorch yêu cầu)\n",
        "    transforms.Normalize((0.5, 0.5, 0.5),                                        # Chuẩn hóa giá trị pixel (mean cho từng kênh RGB)\n",
        "                         (0.5, 0.5, 0.5))                                        # Chuẩn hóa giá trị pixel (std cho từng kênh RGB)\n",
        "])\n",
        "\n",
        "# 1.5.3. Xử lý dữ liệu kiểm tra\n",
        "test_transform = transforms.Compose([\n",
        "    transforms.ToPILImage(),                                                     # Chuyển ảnh từ dạng số sang ảnh PIL\n",
        "    transforms.Resize((32, 32)),                                                 # Thay đổi kích thước ảnh về 32x32\n",
        "    transforms.ToTensor(),                                                       # Chuyển ảnh từ PIL sang Tensor\n",
        "    transforms.Normalize((0.5, 0.5, 0.5),                                        # Chuẩn hóa giá trị pixel (mean cho từng kênh RGB)\n",
        "                         (0.5, 0.5, 0.5))                                        # Chuẩn hóa giá trị pixel (std cho từng kênh RGB)\n",
        "])"
      ],
      "metadata": {
        "id": "5sxeJyJw9SPF"
      },
      "execution_count": null,
      "outputs": []
    },
    {
      "cell_type": "markdown",
      "source": [
        "## **1.6. Khởi tạo DataLoader**\n",
        "\n",
        "#### **Thiết lập thông số:**\n",
        "\n",
        "1. **Chia tập dữ liệu:**\n",
        "   > - **Tập huấn luyện (train):** Chiếm 90% dữ liệu.\n",
        "   - **Tập kiểm tra (validation):** Chiếm 10% dữ liệu.\n",
        "\n",
        "2. **Sử dụng DataLoader:**\n",
        "   > - **Tập huấn luyện:** Xáo trộn dữ liệu để tăng tính ngẫu nhiên, giúp cải thiện khả năng tổng quát hóa của mô hình.\n",
        "   - **Tập kiểm tra và validation:** Dữ liệu giữ nguyên thứ tự để đảm bảo tính nhất quán trong đánh giá mô hình.\n",
        "\n",
        "#### **Công thức tính số batch**\n",
        "\n",
        "Số batch trong mỗi tập dữ liệu được tính như sau:\n",
        "$$\n",
        "\\text{Số batch} = \\frac{\\text{Tổng số mẫu}}{\\text{Batch size}}\n",
        "$$\n",
        "\n",
        "\n",
        "#### **Ví dụ tính toán:**\n",
        "\n",
        "- **Tập huấn luyện:**\n",
        "$$\n",
        "\\text{Số batch (train)} = \\frac{45000}{128} = 351.5625 = 352\n",
        "$$\n",
        "\n",
        "- **Tập kiểm tra:**\n",
        "$$\n",
        "\\text{Số batch (validation)} = \\frac{5000}{128}  =  39.0625 = 40\n",
        "$$\n",
        "\n",
        "\n",
        "#### **Kết quả:**\n",
        "- Tập huấn luyện: **352** batch.\n",
        "- Tập kiểm tra: **40** batch.\n"
      ],
      "metadata": {
        "id": "w07P3lml-xn-"
      }
    },
    {
      "cell_type": "code",
      "source": [
        "# 1.6.1. Thiết lập kích thước batch\n",
        "batch_size = 128\n",
        "\n",
        "# 1.6.2. Hàm chuẩn bị DataLoader\n",
        "def prepare_data_loaders(train_data, test_data, train_transform, test_transform, val_split=0.1):\n",
        "    # Tạo Dataset cho tập huấn luyện và kiểm tra\n",
        "    train_dataset = CIFAR100Dataset(train_data[b'data'], train_data[b'fine_labels'], transform=train_transform)\n",
        "    test_dataset = CIFAR100Dataset(test_data[b'data'], test_data[b'fine_labels'], transform=test_transform)\n",
        "\n",
        "    # Chia tập huấn luyện thành training set và validation set\n",
        "    train_size = int((1 - val_split) * len(train_dataset))                                                      # 90% cho tập huấn luyện\n",
        "    val_size = len(train_dataset) - train_size                                                                  # 10% cho tập validation\n",
        "    train_data, val_data = random_split(train_dataset, [train_size, val_size])                                  # Chia tập dữ liệu\n",
        "\n",
        "    # Tạo DataLoader cho từng tập\n",
        "    train_loader = DataLoader(train_data, batch_size=batch_size, shuffle=True)                                  # Shuffle tăng tính ngẫu nhiên\n",
        "    val_loader = DataLoader(val_data, batch_size=batch_size, shuffle=False)                                     # Validation giữ nguyên thứ tự\n",
        "    test_loader = DataLoader(test_dataset, batch_size=batch_size, shuffle=False)                                # Test giữ nguyên thứ tự\n",
        "\n",
        "    return train_loader, val_loader, test_loader                                                                # Trả về các DataLoader\n",
        "\n",
        "# 1.6.3. Chuẩn bị DataLoader\n",
        "\n",
        "# 1.6.3.1. Gọi hàm để tạo DataLoader cho tập huấn luyện, validation và kiểm tra\n",
        "train_loader, val_loader, test_loader = prepare_data_loaders(\n",
        "    train_data, test_data, train_transform, test_transform\n",
        ")\n",
        "\n",
        "# 1.6.3.2. In thông tin số batch của từng tập\n",
        "print(f\"Số batch trong tập huấn luyện: {len(train_loader)}\")\n",
        "print(f\"Số batch trong tập validation: {len(val_loader)}\")\n",
        "print(f\"Số batch trong tập kiểm tra: {len(test_loader)}\")"
      ],
      "metadata": {
        "id": "LLKQeG1__EN7",
        "colab": {
          "base_uri": "https://localhost:8080/"
        },
        "outputId": "3c5a7da6-37eb-45bd-9020-93ea6b0815e6"
      },
      "execution_count": null,
      "outputs": [
        {
          "output_type": "stream",
          "name": "stdout",
          "text": [
            "Số batch trong tập huấn luyện: 352\n",
            "Số batch trong tập validation: 40\n",
            "Số batch trong tập kiểm tra: 79\n"
          ]
        }
      ]
    },
    {
      "cell_type": "markdown",
      "source": [
        "# **2. Định nghĩa mô hình VGG11**\n",
        "\n",
        "### **A. Mục tiêu**\n",
        "> Thiết kế mô hình **VGG11** để phân loại ảnh có kích thước **32 × 32** thuộc tập dữ liệu **CIFAR-100** thành **100 lớp**.\n",
        "\n",
        "### **B. Tổng quan về kiến trúc**\n",
        "\n",
        "#### **1. Khối trích xuất đặc trưng (Feature Extractor):**\n",
        "- Bao gồm **5 khối chính**, mỗi khối thực hiện các bước:\n",
        "  \n",
        " > 1. **Convolution (Conv2D):** Trích xuất đặc trưng từ ảnh.\n",
        "  2. **Batch Normalization:** Chuẩn hóa dữ liệu giữa các lớp để tăng tốc độ hội tụ.\n",
        "  3. **Activation (ReLU):** Đưa phi tuyến tính vào mạng để mô hình học được các mối quan hệ phức tạp.\n",
        "  4. **MaxPooling:** Giảm kích thước không gian ảnh (hạ mẫu) để giảm độ phức tạp tính toán.\n",
        "\n",
        "- Số lượng kênh (channels) tăng dần qua các khối:\n",
        "  $$\n",
        "  3 \\to 64 \\to 128 \\to 256 \\to 512\n",
        "  $$\n",
        "\n",
        "#### **2. Khối phân loại (Classifier):**\n",
        "- Gồm **3 lớp Fully Connected (FC):**\n",
        "  > 1. **FC1:** Chuyển đầu vào từ khối trích xuất thành vector phẳng.\n",
        "  2. **FC2:** Học các đặc trưng sâu hơn.\n",
        "  3. **FC3:** Dự đoán 100 lớp từ tập CIFAR-100.\n",
        "- **Dropout:** Được sử dụng giữa các lớp để giảm hiện tượng overfitting bằng cách ngẫu nhiên bỏ qua một số neuron.\n",
        "\n",
        "### **C. Tóm gọn**\n",
        "> Mục này định nghĩa mô hình **VGG11**, gồm khối trích xuất đặc trưng và khối phân loại để xử lý và dự đoán ảnh thuộc **100 lớp** của tập dữ liệu **CIFAR-100.**\n",
        "\n"
      ],
      "metadata": {
        "id": "ygZGrelp_0C5"
      }
    },
    {
      "cell_type": "code",
      "source": [
        "# 2.1. Định nghĩa kiến trúc VGG11\n",
        "class VGG11(nn.Module):\n",
        "    def __init__(self, num_classes=100):  # num_classes mặc định là 100 (CIFAR-100)\n",
        "        super(VGG11, self).__init__()\n",
        "\n",
        "        # 2.1.1. Khối trích xuất đặc trưng (Feature Extractor)\n",
        "        self.features = nn.Sequential(\n",
        "            # Block 1: Trích xuất đặc trưng cơ bản\n",
        "            nn.Conv2d(3, 64, kernel_size=3, padding=1),    # Conv: Đầu vào 3 kênh (RGB) -> 64 kênh\n",
        "            nn.BatchNorm2d(64),                            # Chuẩn hóa Batch\n",
        "            nn.ReLU(),                                     # Hàm kích hoạt ReLU\n",
        "            nn.MaxPool2d(kernel_size=2, stride=2),         # MaxPooling: Giảm kích thước không gian (2x2)\n",
        "\n",
        "            # Block 2: Nâng cao đặc trưng\n",
        "            nn.Conv2d(64, 128, kernel_size=3, padding=1),  # Conv: 64 -> 128 kênh\n",
        "            nn.BatchNorm2d(128),                           # Chuẩn hóa Batch\n",
        "            nn.ReLU(),                                     # Hàm kích hoạt ReLU\n",
        "            nn.MaxPool2d(kernel_size=2, stride=2),         # MaxPooling: (2x2)\n",
        "\n",
        "            # Block 3: Bắt đầu trích xuất chi tiết hơn\n",
        "            nn.Conv2d(128, 256, kernel_size=3, padding=1), # Conv: 128 -> 256 kênh\n",
        "            nn.BatchNorm2d(256),                           # Chuẩn hóa Batch\n",
        "            nn.ReLU(),                                     # Hàm kích hoạt ReLU\n",
        "            nn.Conv2d(256, 256, kernel_size=3, padding=1), # Conv: 256 -> 256\n",
        "            nn.BatchNorm2d(256),                           # Chuẩn hóa Batch\n",
        "            nn.ReLU(),                                     # Hàm kích hoạt ReLU\n",
        "            nn.MaxPool2d(kernel_size=2, stride=2),         # MaxPooling: (2x2)\n",
        "\n",
        "            # Block 4: Đặc trưng chi tiết cấp cao hơn\n",
        "            nn.Conv2d(256, 512, kernel_size=3, padding=1), # Conv: 256 -> 512 kênh\n",
        "            nn.BatchNorm2d(512),                           # Chuẩn hóa Batch\n",
        "            nn.ReLU(),                                     # Hàm kích hoạt ReLU\n",
        "            nn.Conv2d(512, 512, kernel_size=3, padding=1), # Conv: 512 -> 512\n",
        "            nn.BatchNorm2d(512),                           # Chuẩn hóa Batch\n",
        "            nn.ReLU(),                                     # Hàm kích hoạt ReLU\n",
        "            nn.MaxPool2d(kernel_size=2, stride=2),         # MaxPooling: (2x2)\n",
        "\n",
        "            # Block 5: Đặc trưng chi tiết cấp cao nhất\n",
        "            nn.Conv2d(512, 512, kernel_size=3, padding=1), # Conv: 512 -> 512 kênh\n",
        "            nn.BatchNorm2d(512),                           # Chuẩn hóa Batch\n",
        "            nn.ReLU(),                                     # Hàm kích hoạt ReLU\n",
        "            nn.Conv2d(512, 512, kernel_size=3, padding=1), # Conv: 512 -> 512\n",
        "            nn.BatchNorm2d(512),                           # Chuẩn hóa Batch\n",
        "            nn.ReLU(),                                     # Hàm kích hoạt ReLU\n",
        "            nn.MaxPool2d(kernel_size=2, stride=2),         # MaxPooling: (2x2)\n",
        "        )\n",
        "\n",
        "        # 2.1.2. Khối phân loại (Classifier)\n",
        "        self.classifier = nn.Sequential(\n",
        "            nn.Linear(512 * 1 * 1, 4096),                  # FC1: Nhận đầu vào từ khối đặc trưng\n",
        "            nn.ReLU(),                                     # Hàm kích hoạt ReLU\n",
        "            nn.Dropout(0.5),                               # Dropout: Giảm overfitting\n",
        "            nn.Linear(4096, 4096),                         # FC2: Tiếp tục học\n",
        "            nn.ReLU(),                                     # Hàm kích hoạt ReLU\n",
        "            nn.Dropout(0.5),                               # Dropout: Giảm overfitting\n",
        "            nn.Linear(4096, num_classes),                  # FC3: Dự đoán 100 lớp\n",
        "        )\n",
        "\n",
        "    def forward(self, x):\n",
        "        x = self.features(x)                               # Chạy qua khối trích xuất đặc trưng\n",
        "        x = x.view(x.size(0), -1)                          # Flatten (trải phẳng) tensor\n",
        "        x = self.classifier(x)                             # Chạy qua khối phân loại\n",
        "        return x"
      ],
      "metadata": {
        "id": "6qJlOBSBAQVL"
      },
      "execution_count": null,
      "outputs": []
    },
    {
      "cell_type": "markdown",
      "source": [
        "# **3. Thiết lập cấu trúc VGG11**\n",
        "\n",
        "### **A. Mục tiêu**\n",
        "\n",
        "1. **Khởi tạo mô hình:** Tạo mô hình `VGG11` với 100 lớp (tập CIFAR-100) và đảm bảo mô hình được chuyển sang thiết bị phù hợp.\n",
        "2. **Định nghĩa hàm mất mát:** Sử dụng `CrossEntropyLoss` để tính toán sai số dựa trên dự đoán của mô hình và nhãn thực tế.\n",
        "3. **Khởi tạo bộ tối ưu hóa:** Sử dụng thuật toán **SGD (Stochastic Gradient Descent)** với các tham số:\n",
        "   - **Learning rate (lr):** \\( 0.01 \\).\n",
        "   - **Momentum:** \\( 0.9 \\) để tăng tính ổn định khi cập nhật trọng số.\n",
        "   - **Weight decay:** \\( 5e^{-4} \\) để giảm hiện tượng overfitting.\n",
        "4. **Lịch trình giảm tốc độ học (Scheduler):** Sử dụng **Cosine Annealing** để giảm dần tốc độ học (\\( lr \\)) trong quá trình huấn luyện.\n",
        "5. **Gradient Scaling:** Sử dụng `GradScaler` để hỗ trợ **Mixed Precision Training**, tăng hiệu suất khi chạy trên GPU.\n",
        "\n",
        "### **B. Tóm gọn:**\n",
        "> Mục này thực hiện việc thiết lập đầy đủ các thành phần cần thiết để sẵn sàng huấn luyện mô hình `VGG11`.\n"
      ],
      "metadata": {
        "id": "J2eTvQUtIB4I"
      }
    },
    {
      "cell_type": "code",
      "source": [
        "# 3.1.2. Khởi tạo mô hình\n",
        "model = VGG11(num_classes=100).to(device)                                        # Khởi tạo mô hình VGG11 với 100 lớp (CIFAR-100) và chuyển mô hình lên GPU\n",
        "\n",
        "# 3.1.3. Định nghĩa hàm mất mát\n",
        "criterion = nn.CrossEntropyLoss()                                                # Sử dụng hàm mất mát CrossEntropy để đo lường sai số cho bài toán phân loại đa lớp\n",
        "\n",
        "# 3.1.4. Khởi tạo bộ tối ưu hóa SGD\n",
        "optimizer = optim.SGD(\n",
        "    model.parameters(),                                                          # Truyền các tham số của mô hình vào bộ tối ưu hóa\n",
        "    lr=0.01,                                                                     # Thiết lập tốc độ học ban đầu (learning rate)\n",
        "    momentum=0.9,                                                                # Sử dụng momentum để giảm dao động trong việc cập nhật trọng số\n",
        "    weight_decay=5e-4                                                            # Thêm weight decay (regularization) để giảm hiện tượng overfitting\n",
        ")\n",
        "\n",
        "# 3.1.5. Thiết lập lịch trình học\n",
        "scheduler = optim.lr_scheduler.CosineAnnealingLR(\n",
        "    optimizer,                                                                   # Bộ tối ưu hóa mà lịch trình học sẽ điều chỉnh\n",
        "    T_max=400                                                                    # Tổng số epoch để giảm learning rate từ giá trị ban đầu về gần 0\n",
        ")\n",
        "\n",
        "# 3.1.6. Gradient Scaling để hỗ trợ Mixed Precision Training\n",
        "scaler = GradScaler()                                                            # Sử dụng Gradient Scaling để hỗ trợ tính toán với Mixed Precision (float16), giảm lỗi số học"
      ],
      "metadata": {
        "id": "HfAQ-sjUGGX0"
      },
      "execution_count": null,
      "outputs": []
    },
    {
      "cell_type": "markdown",
      "source": [
        "# **4. Thiết lập hàm huấn luyện**"
      ],
      "metadata": {
        "id": "GGs2Wdd7P1ks"
      }
    },
    {
      "cell_type": "markdown",
      "source": [
        "\n",
        "## **4.1. Hàm huấn luyện từng epoch**\n",
        "\n",
        "### **A. Mục tiêu**\n",
        "1. **Huấn luyện mô hình:**\n",
        "   - Sử dụng dữ liệu huấn luyện để tối ưu hóa trọng số của mô hình.\n",
        "   - Áp dụng kỹ thuật Mixed Precision Training để tăng hiệu suất tính toán.\n",
        "2. **Theo dõi tiến trình:**\n",
        "   - Tính toán loss trung bình của từng batch trong epoch.\n",
        "   - Ghi log loss sau mỗi 100 bước để theo dõi hiệu suất mô hình trong thời gian thực.\n",
        "\n",
        "### **B. Quy trình thực hiện**\n",
        "1. **Chuyển sang chế độ huấn luyện:**\n",
        "   - Đặt mô hình ở chế độ `train()` để kích hoạt gradient và tính toán cập nhật trọng số.\n",
        "2. **Xử lý dữ liệu:**\n",
        "   - Chuyển batch dữ liệu huấn luyện và nhãn thực tế từ CPU/GPU sang thiết bị phù hợp.\n",
        "   - Sử dụng `autocast` để thực hiện tính toán Mixed Precision.\n",
        "3. **Cập nhật trọng số:**\n",
        "   - Tính gradient dựa trên loss.\n",
        "   - Sử dụng `optimizer` và `scaler` để cập nhật trọng số của mô hình.\n",
        "4. **Ghi log:**\n",
        "   - Sau mỗi 100 bước (batch), in ra giá trị loss để theo dõi tiến trình huấn luyện.\n",
        "5. **Tính toán kết quả:**\n",
        "   - Trả về loss trung bình trên tất cả các batch trong epoch.\n",
        "\n",
        "### **C. Tóm gọn**\n",
        "> Phần này xây dựng hàm huấn luyện theo từng epoch, với mục tiêu giảm loss và tối ưu hóa trọng số của mô hình bằng Mixed Precision Training.\n"
      ],
      "metadata": {
        "id": "Xof6ZgNGemQ9"
      }
    },
    {
      "cell_type": "code",
      "source": [
        "# 4.1. Hàm huấn luyện cho từng epoch\n",
        "\n",
        "def train_epoch(model, train_loader, criterion, optimizer, scaler):\n",
        "    # 4.1.1. Bật chế độ huấn luyện cho mô hình\n",
        "    model.train()                                                                   # Để mô hình có thể tính toán và cập nhật các giá trị cần thiết\n",
        "\n",
        "    # 4.1.2. Tạo biến lưu tổng loss\n",
        "    running_loss = 0                                                                # Dùng để theo dõi tổng lỗi (loss) trong suốt epoch\n",
        "\n",
        "    # 4.1.3. Xử lý từng nhóm dữ liệu (batch) trong tập huấn luyện\n",
        "    for step, (images, labels) in enumerate(train_loader):\n",
        "        # 4.1.3.1. Đưa ảnh và nhãn sang GPU hoặc CPU để xử lý\n",
        "        images, labels = images.to(device), labels.to(device)\n",
        "\n",
        "        # 4.1.3.2. Dự đoán kết quả và tính lỗi\n",
        "        with autocast(device_type='cuda' if torch.cuda.is_available() else 'cpu'):  # Hỗ trợ tăng tốc xử lý nếu dùng GPU\n",
        "            outputs = model(images)                                                 # Dự đoán nhãn từ ảnh\n",
        "            loss = criterion(outputs, labels)                                       # Tính lỗi giữa kết quả dự đoán và nhãn thật\n",
        "\n",
        "        # 4.1.3.3. Cập nhật mô hình dựa trên lỗi\n",
        "        optimizer.zero_grad()                                                       # Xóa giá trị lỗi cũ để bắt đầu tính toán mới\n",
        "        scaler.scale(loss).backward()                                               # Tính toán thay đổi cần thiết (gradient) dựa trên lỗi\n",
        "        scaler.step(optimizer)                                                      # Thay đổi các tham số của mô hình dựa trên tính toán\n",
        "        scaler.update()                                                             # Chuẩn bị cho lần tính toán tiếp theo\n",
        "\n",
        "        # 4.1.3.4. Lưu lại lỗi để tính trung bình sau\n",
        "        running_loss += loss.item()\n",
        "\n",
        "        # 4.1.3.5. Sau mỗi 100 nhóm dữ liệu, in thông tin lỗi để người dùng theo dõi\n",
        "        if (step + 1) % 100 == 0:\n",
        "            print(f\"Bước [{step + 1}/{len(train_loader)}], Loss: {loss.item():.4f}\")\n",
        "\n",
        "    # 4.1.4. Trả về lỗi trung bình trên toàn bộ dữ liệu của epoch\n",
        "    return running_loss / len(train_loader)                                          # Dùng lỗi trung bình để đánh giá kết quả huấn luyện"
      ],
      "metadata": {
        "id": "7moUmcWuQGBw"
      },
      "execution_count": null,
      "outputs": []
    },
    {
      "cell_type": "markdown",
      "source": [
        "## **4.2. Hàm đánh giá tập validation**\n",
        "\n",
        "### **A. Mục tiêu**\n",
        "1. **Đánh giá hiệu suất:**\n",
        "   - Tính toán độ chính xác (accuracy) và loss trung bình trên tập validation.\n",
        "   - Đánh giá khả năng tổng quát hóa của mô hình dựa trên dữ liệu không nằm trong tập huấn luyện.\n",
        "2. **Tối ưu hiệu năng:**\n",
        "   - Sử dụng `torch.no_grad()` để tắt gradient, giảm tiêu tốn bộ nhớ và tăng tốc độ đánh giá.\n",
        "   - Kết hợp Mixed Precision (`autocast`) để tối ưu hóa tốc độ trên GPU.\n",
        "\n",
        "### **B. Quy trình thực hiện**\n",
        "1. **Chuyển sang chế độ đánh giá:**\n",
        "   - Đặt mô hình ở chế độ `eval()` để vô hiệu hóa dropout và batch normalization, đảm bảo đánh giá chính xác.\n",
        "2. **Duyệt qua từng batch:**\n",
        "   - Chuyển dữ liệu và nhãn từ CPU/GPU sang thiết bị phù hợp.\n",
        "   - Sử dụng `autocast` để thực hiện tính toán Mixed Precision.\n",
        "3. **Tính toán loss và độ chính xác:**\n",
        "   - Loss được tính bằng hàm `criterion` giữa đầu ra dự đoán của mô hình và nhãn thực tế.\n",
        "   - Độ chính xác được tính dựa trên số lượng dự đoán đúng chia cho tổng số mẫu.\n",
        "4. **Kết quả:**\n",
        "   - Trả về loss trung bình và độ chính xác trên toàn bộ tập validation.\n",
        "\n",
        "### **C. Tóm gọn**\n",
        "> Phần này xây dựng hàm đánh giá mô hình trên tập validation để đo lường loss trung bình và độ chính xác, hỗ trợ đánh giá hiệu suất của mô hình."
      ],
      "metadata": {
        "id": "HxLlcP85fM3Z"
      }
    },
    {
      "cell_type": "code",
      "source": [
        "# 4.2. Hàm đánh giá mô hình trên tập validation\n",
        "\n",
        "def evaluate(model, val_loader, criterion):\n",
        "    # 4.2.1. Đặt mô hình ở chế độ đánh giá\n",
        "    model.eval()                                                                        # Tắt chế độ huấn luyện để không tính toán và cập nhật các giá trị trọng số\n",
        "\n",
        "    # 4.2.2. Khởi tạo các biến để theo dõi lỗi và độ chính xác\n",
        "    running_loss = 0                                                                    # Tổng lỗi để tính lỗi trung bình\n",
        "    correct = 0                                                                         # Tổng số dự đoán đúng\n",
        "    total = 0                                                                           # Tổng số mẫu trong tập validation\n",
        "\n",
        "    # 4.2.3. Không tính gradient để tiết kiệm bộ nhớ và tăng tốc độ xử lý\n",
        "    with torch.no_grad():                                                               # Không lưu lại thông tin gradient\n",
        "        # Lặp qua từng nhóm dữ liệu (batch) trong tập validation\n",
        "        for images, labels in val_loader:\n",
        "            # 4.2.3.1. Chuyển ảnh và nhãn sang GPU hoặc CPU\n",
        "            images, labels = images.to(device), labels.to(device)\n",
        "\n",
        "            # 4.2.3.2. Dự đoán kết quả và tính lỗi\n",
        "            with autocast(device_type='cuda' if torch.cuda.is_available() else 'cpu'):  # Hỗ trợ tăng tốc nếu dùng GPU\n",
        "                outputs = model(images)                                                 # Dự đoán nhãn từ ảnh\n",
        "                loss = criterion(outputs, labels)                                       # Tính lỗi giữa kết quả dự đoán và nhãn thực tế\n",
        "\n",
        "            # 4.2.3.3. Tính tổng lỗi\n",
        "            running_loss += loss.item()                                                 # Cộng dồn lỗi của batch hiện tại\n",
        "\n",
        "            # 4.2.3.4. Tính số lượng dự đoán đúng\n",
        "            _, predicted = outputs.max(1)                                               # Lấy nhãn có xác suất cao nhất\n",
        "            total += labels.size(0)                                                     # Cộng tổng số mẫu trong batch\n",
        "            correct += predicted.eq(labels).sum().item()                                # Cộng số lượng dự đoán đúng\n",
        "\n",
        "    # 4.2.4. Tính độ chính xác\n",
        "    accuracy = 100.0 * correct / total                                                  # Tỷ lệ dự đoán đúng trên tổng số mẫu (%)\n",
        "\n",
        "    # 4.2.5. Trả về lỗi trung bình và độ chính xác\n",
        "    return running_loss / len(val_loader), accuracy                                     # Lỗi trung bình và độ chính xác của toàn bộ tập validation"
      ],
      "metadata": {
        "id": "B0m8me8BQKkA"
      },
      "execution_count": null,
      "outputs": []
    },
    {
      "cell_type": "markdown",
      "source": [
        "# **5. Huấn luyện mô hình VGG11**\n",
        "\n",
        "## **A. Mục tiêu**\n",
        "1. **Tối ưu hóa trọng số của mô hình** qua nhiều epoch.\n",
        "2. **Đánh giá hiệu suất trên tập validation** để theo dõi sự cải thiện.\n",
        "3. **Ghi nhận các thông số quan trọng** như loss, độ chính xác, và thời gian huấn luyện.\n",
        "4. **Lưu trạng thái mô hình (checkpoint)** khi đạt độ chính xác tốt nhất để sử dụng sau này.\n",
        "\n",
        "## **B. Quy trình**\n",
        "\n",
        "### **1. Khởi tạo**\n",
        "- Các thành phần cần thiết để huấn luyện mô hình:\n",
        "  - **Optimizer:** Tối ưu trọng số của mô hình.\n",
        "  - **Scheduler:** Điều chỉnh learning rate trong quá trình huấn luyện.\n",
        "  - **Criterion:** Hàm mất mát để tính toán sai số.\n",
        "- Danh sách ghi nhận thông tin:\n",
        "  - `train_losses`: Ghi lại loss trên tập huấn luyện.\n",
        "  - `val_losses`: Ghi lại loss trên tập validation.\n",
        "  - `val_accuracies`: Ghi lại độ chính xác trên tập validation.\n",
        "  - `epoch_times`: Ghi lại thời gian huấn luyện mỗi epoch.\n",
        "\n",
        "### **2. Vòng lặp qua các epoch**\n",
        "1. **Bắt đầu epoch:**\n",
        "   - Ghi nhận thời gian bắt đầu.\n",
        "2. **Huấn luyện trên tập train:**\n",
        "   - Chuyển mô hình sang chế độ `train()`.\n",
        "   - Tính toán loss qua các batch và cập nhật trọng số bằng `optimizer`.\n",
        "3. **Đánh giá trên tập validation:**\n",
        "   - Chuyển mô hình sang chế độ `eval()`.\n",
        "   - Tính toán loss và độ chính xác trên tập validation.\n",
        "4. **Ghi nhận và hiển thị kết quả:**\n",
        "   - Hiển thị loss và độ chính xác cho từng epoch.\n",
        "   - Ghi nhận thời gian huấn luyện epoch.\n",
        "5. **So sánh và lưu trạng thái mô hình:**\n",
        "   - So sánh độ chính xác trên tập validation:\n",
        "     - Lưu checkpoint nếu đạt độ chính xác cao nhất.\n",
        "\n",
        "### **3. Lưu checkpoint**\n",
        "- **Trạng thái lưu:**\n",
        "  - Trọng số mô hình.\n",
        "  - Trạng thái của optimizer và scheduler.\n",
        "  - Epoch hiện tại.\n",
        "  - Độ chính xác tốt nhất.\n",
        "\n",
        "## **C. Tóm gọn**\n",
        "> Vòng lặp này thực hiện huấn luyện và đánh giá qua nhiều epoch, ghi nhận các thông số quan trọng và lưu trạng thái mô hình khi đạt độ chính xác tốt nhất. Đây là bước tối ưu trọng số mô hình để đạt hiệu suất tốt nhất.\n"
      ],
      "metadata": {
        "id": "kxWg_SB4RMDh"
      }
    },
    {
      "cell_type": "code",
      "source": [
        "# 5.1. Số lượng epoch cần huấn luyện\n",
        "num_epochs = 400                                                                 # Tổng số epoch để huấn luyện mô hình\n",
        "checkpoint_path = '/content/drive/MyDrive/vgg11_best_checkpoint.pth'             # Đường dẫn lưu checkpoint có độ chính xác cao nhất\n",
        "best_accuracy = 0                                                                # Biến lưu độ chính xác tốt nhất\n",
        "\n",
        "# 5.2. Danh sách lưu thông tin huấn luyện\n",
        "train_losses = []                                                                # Lưu loss trung bình của từng epoch trong tập huấn luyện\n",
        "val_losses = []                                                                  # Lưu loss trung bình của từng epoch trong tập validation\n",
        "val_accuracies = []                                                              # Lưu độ chính xác trên tập validation sau mỗi epoch\n",
        "epoch_times = []                                                                 # Lưu thời gian chạy của từng epoch\n",
        "\n",
        "# 5.3. Vòng lặp huấn luyện\n",
        "for epoch in range(num_epochs):  # Lặp qua từng epoch\n",
        "    print(f\"**Epoch [{epoch + 1}/{num_epochs}]**\")                               # In thông tin epoch hiện tại\n",
        "\n",
        "    # 5.3.1. Đo thời gian bắt đầu epoch\n",
        "    start_time = time.time()                                                     # Ghi lại thời điểm bắt đầu epoch\n",
        "\n",
        "    # 5.3.2. Gọi hàm huấn luyện mô hình trên tập huấn luyện\n",
        "    train_loss = train_epoch(model, train_loader, criterion, optimizer, scaler)  # Gọi hàm huấn luyện cho từng epoch\n",
        "\n",
        "    # 5.3.3. Gọi hàm đánh giá mô hình trên tập validation\n",
        "    val_loss, val_accuracy = evaluate(model, val_loader, criterion)              # Gọi hàm đánh giá trên tập validation\n",
        "\n",
        "    # 5.3.4. Tính thời gian thực hiện epoch\n",
        "    epoch_time = time.time() - start_time                                        # Tính thời gian hoàn thành epoch\n",
        "\n",
        "    # 5.3.5. Lưu kết quả huấn luyện của epoch\n",
        "    train_losses.append(train_loss)                                              # Lưu loss trung bình của tập huấn luyện\n",
        "    val_losses.append(val_loss)                                                  # Lưu loss trung bình của tập validation\n",
        "    val_accuracies.append(val_accuracy)                                          # Lưu độ chính xác trên tập validation\n",
        "    epoch_times.append(epoch_time)                                               # Lưu thời gian thực hiện epoch\n",
        "\n",
        "    # 5.3.6. Hiển thị thông tin kết quả của epoch\n",
        "    print(f\"Loss huấn luyện: {train_loss:.4f}\")                                  # Hiển thị loss trung bình trên tập huấn luyện\n",
        "    print(f\"Loss kiểm tra: {val_loss:.4f}, Độ chính xác: {val_accuracy:.2f}%\")   # Hiển thị loss và độ chính xác trên tập validation\n",
        "    print(f\"Thời gian cho epoch [{epoch + 1}]: {epoch_time:.2f} giây\")           # Hiển thị thời gian thực hiện epoch\n",
        "\n",
        "    # 5.3.7. Cập nhật trạng thái mô hình nếu đạt độ chính xác tốt nhất\n",
        "    if val_accuracy > best_accuracy:                                             # Kiểm tra nếu độ chính xác hiện tại tốt hơn\n",
        "        best_accuracy = val_accuracy                                             # Cập nhật độ chính xác tốt nhất\n",
        "        torch.save({\n",
        "            'epoch': epoch + 1,                                                  # Lưu số thứ tự của epoch\n",
        "            'model_state_dict': model.state_dict(),                              # Lưu trạng thái mô hình\n",
        "            'optimizer_state_dict': optimizer.state_dict(),                      # Lưu trạng thái bộ tối ưu\n",
        "            'scheduler_state_dict': scheduler.state_dict(),                      # Lưu trạng thái lịch trình learning rate\n",
        "            'scaler_state_dict': scaler.state_dict(),                            # Lưu trạng thái Gradient Scaler\n",
        "            'best_accuracy': best_accuracy                                       # Lưu độ chính xác tốt nhất\n",
        "        }, checkpoint_path)  # Lưu tại đường dẫn đã định nghĩa\n",
        "        print(f\"Checkpoint được lưu với độ chính xác cao nhất: {best_accuracy:.2f}%\")\n",
        "\n",
        "    # 5.3.8. Cập nhật learning rate theo scheduler\n",
        "    scheduler.step()                                                             # Điều chỉnh tốc độ học theo lịch trình"
      ],
      "metadata": {
        "id": "txFcBB0aRvBl",
        "colab": {
          "base_uri": "https://localhost:8080/"
        },
        "outputId": "5bca5b3e-c796-4783-fc19-1356d0eb2c63"
      },
      "execution_count": null,
      "outputs": [
        {
          "output_type": "stream",
          "name": "stdout",
          "text": [
            "**Epoch [1/400]**\n"
          ]
        }
      ]
    },
    {
      "cell_type": "markdown",
      "source": [
        "# **6. Lưu kết quả huấn luyện**\n",
        "\n",
        "### **A. Mục tiêu**\n",
        "1. Lưu lại thông tin kết quả huấn luyện để phục vụ phân tích hoặc sử dụng sau này:\n",
        "   - **Train losses:** Giá trị lỗi trung bình trên tập huấn luyện qua từng epoch.\n",
        "   - **Validation losses:** Giá trị lỗi trung bình trên tập validation qua từng epoch.\n",
        "   - **Validation accuracies:** Độ chính xác trên tập validation qua từng epoch.\n",
        "   - **Epoch times:** Thời gian thực hiện mỗi epoch.\n",
        "   - **Best accuracy:** Độ chính xác cao nhất đạt được trên tập validation.\n",
        "2. Đảm bảo việc lưu file JSON nhanh chóng, tiện lợi và dễ dàng chia sẻ.\n",
        "\n",
        "### **B. Quy trình**\n",
        "1. Đặt tên file hợp lý: `training_results.json` để thể hiện nội dung file.\n",
        "2. Sử dụng `json.dump` để ghi thông tin kết quả vào file JSON.\n",
        "3. Hiển thị thông báo khi lưu file thành công, kèm độ chính xác cao nhất để kiểm tra nhanh hiệu quả mô hình.\n",
        "\n",
        "### **C. Tóm gọn**\n",
        "> Phần này lưu thông tin huấn luyện (loss, độ chính xác, thời gian) vào file JSON để tiện phân tích và theo dõi hiệu quả mô hình."
      ],
      "metadata": {
        "id": "svwa8SUOSfy6"
      }
    },
    {
      "cell_type": "code",
      "source": [
        "# 6.1. Đường dẫn lưu file JSON\n",
        "output_path = '/content/drive/MyDrive/training_results.json'                     # Lưu file json với tên file training_results.json\n",
        "\n",
        "# 6.2. Lưu dữ liệu huấn luyện ra file JSON\n",
        "with open(output_path, 'w') as f:                                                # Mở file ở chế độ ghi\n",
        "    json.dump({\n",
        "        \"train_losses\": train_losses,                                            # Danh sách loss trung bình trên tập huấn luyện\n",
        "        \"val_losses\": val_losses,                                                # Danh sách loss trung bình trên tập validation\n",
        "        \"val_accuracies\": val_accuracies,                                        # Danh sách độ chính xác trên tập validation\n",
        "        \"epoch_times\": epoch_times,                                              # Danh sách thời gian thực hiện từng epoch\n",
        "        \"best_accuracy\": max(val_accuracies)                                     # Độ chính xác cao nhất đạt được\n",
        "    }, f)\n",
        "\n",
        "# 6.3. Thông báo khi hoàn tất lưu file\n",
        "print(f\"Dữ liệu huấn luyện đã được lưu tại: {output_path}\")                      # Thông báo file JSON đã được lưu thành công\n",
        "print(f\"Độ chính xác cao nhất đạt được: {max(val_accuracies):.2f}%\")             # Hiển thị độ chính xác cao nhất"
      ],
      "metadata": {
        "id": "cbrzqW5mSy5o"
      },
      "execution_count": null,
      "outputs": []
    },
    {
      "cell_type": "markdown",
      "source": [
        "# **7. Kiểm thử mô hình**"
      ],
      "metadata": {
        "id": "z8_wAj0bS2vH"
      }
    },
    {
      "cell_type": "markdown",
      "source": [
        "> **Lưu ý quan trọng:**\n",
        "  - Đảm bảo bạn đã chạy thành công các mục sau:\n",
        "    - **1. Chuẩn bị môi trường**\n",
        "    - **2. Định nghĩa mô hình VGG11**\n",
        "    - **3. Thiết lập cấu trúc VGG11**\n",
        "  - Trước khi tiếp tục với các bước dưới đây!\n"
      ],
      "metadata": {
        "id": "bZXhJLTMHRVa"
      }
    },
    {
      "cell_type": "markdown",
      "source": [
        "## **7.1. Tải tên lớp từ file meta**\n",
        "- Đọc danh sách **tên lớp nhỏ (fine labels)** và **tên lớp lớn (coarse labels)** từ file meta được lưu sẵn.\n",
        "- Đây là các lớp mà mô hình sẽ dự đoán."
      ],
      "metadata": {
        "id": "D-4Ji4LTVuFP"
      }
    },
    {
      "cell_type": "code",
      "source": [
        "# 7.1. Tải tên lớp từ file meta\n",
        "class_names = [name.decode('utf-8') for name in meta_data[b'fine_label_names']]          # Danh sách 100 lớp nhỏ (fine labels)\n",
        "coarse_names = [name.decode('utf-8') for name in meta_data[b'coarse_label_names']]       # Danh sách 20 lớp lớn (coarse labels)"
      ],
      "metadata": {
        "id": "nLIxFAs5C2Q2"
      },
      "execution_count": null,
      "outputs": []
    },
    {
      "cell_type": "markdown",
      "source": [
        "## **7.2. Hàm tải mô hình đã lưu**\n",
        "- **Chức năng:** Tải mô hình đã được huấn luyện từ file checkpoint.\n",
        "- **Quy trình thực hiện:**\n",
        "  1. Tạo một mô hình mới dựa trên cấu trúc đã định nghĩa (VGG11 với 100 lớp).\n",
        "  2. Tải trọng số và trạng thái của mô hình từ file checkpoint.\n",
        "  3. Đưa mô hình sang thiết bị phù hợp (GPU hoặc CPU).\n",
        "  4. Đặt mô hình ở chế độ đánh giá (**eval**) để chuẩn bị cho dự đoán."
      ],
      "metadata": {
        "id": "TWwNVgAWC4xy"
      }
    },
    {
      "cell_type": "code",
      "source": [
        "# 7.2. Hàm tải mô hình từ checkpoint\n",
        "\n",
        "checkpoint_path = '/content/drive/MyDrive/vgg11_best_checkpoint.pth'                     # Đường dẫn đã lưu mô hình\n",
        "\n",
        "def load_model(checkpoint_path, num_classes=100):\n",
        "    \"\"\"\n",
        "    Tải mô hình từ checkpoint đã lưu.\n",
        "    \"\"\"\n",
        "    model = VGG11(num_classes=num_classes)                                               # Tạo mô hình VGG11 với số lớp là 100\n",
        "    checkpoint = torch.load(checkpoint_path, map_location=device, weights_only=True)     # Tải checkpoint từ file\n",
        "    model.load_state_dict(checkpoint['model_state_dict'])                                # Nạp trạng thái mô hình từ checkpoint\n",
        "    model.to(device)                                                                     # Chuyển mô hình sang GPU hoặc CPU tùy thuộc vào thiết bị\n",
        "    model.eval()                                                                         # Đặt mô hình ở chế độ đánh giá\n",
        "    return model"
      ],
      "metadata": {
        "id": "LC4OkaoOEbk0"
      },
      "execution_count": null,
      "outputs": []
    },
    {
      "cell_type": "markdown",
      "source": [
        "## **7.3. Hàm tiền xử lý ảnh**\n",
        "- **Chức năng:** Chuẩn bị ảnh đầu vào để đưa vào mô hình dự đoán.\n",
        "- **Quy trình thực hiện:**\n",
        "  1. Đọc ảnh từ đường dẫn được cung cấp và chuyển đổi sang định dạng RGB.\n",
        "  2. Thực hiện các bước tiền xử lý:\n",
        "     - Resize ảnh về kích thước chuẩn (32x32).\n",
        "     - Chuyển đổi ảnh sang Tensor để tương thích với PyTorch.\n",
        "     - Chuẩn hóa các giá trị pixel về phạm vi [-1, 1].\n",
        "  3. Trả về ảnh gốc và ảnh đã qua xử lý."
      ],
      "metadata": {
        "id": "8Bi9PTz8Ed65"
      }
    },
    {
      "cell_type": "code",
      "source": [
        "# 7.3. Hàm tiền xử lý ảnh\n",
        "def preprocess_image(image_path):\n",
        "    \"\"\"\n",
        "    Tiền xử lý ảnh: Resize, chuyển đổi sang Tensor, chuẩn hóa.\n",
        "    \"\"\"\n",
        "    transform = transforms.Compose([\n",
        "        transforms.Resize((32, 32)),                                                     # Resize ảnh về kích thước 32x32\n",
        "        transforms.ToTensor(),                                                           # Chuyển ảnh sang dạng Tensor\n",
        "        transforms.Normalize((0.5, 0.5, 0.5),                                            # Chuẩn hóa giá trị pixel (mean)\n",
        "                             (0.5, 0.5, 0.5))                                            # Chuẩn hóa giá trị pixel (std)\n",
        "    ])\n",
        "    image = Image.open(image_path).convert('RGB')                                        # Mở ảnh và chuyển sang định dạng RGB\n",
        "    return image, transform(image).unsqueeze(0).to(device)                               # Trả về ảnh gốc và ảnh Tensor đã chuẩn hóa"
      ],
      "metadata": {
        "id": "6laqFNhMEj4F"
      },
      "execution_count": null,
      "outputs": []
    },
    {
      "cell_type": "markdown",
      "source": [
        "## **7.4. Hàm dự đoán lớp của ảnh**\n",
        "- **Chức năng:** Dự đoán lớp nhỏ và lớp lớn của một ảnh.\n",
        "- **Quy trình thực hiện:**\n",
        "  1. Tiền xử lý ảnh bằng cách gọi hàm `preprocess_image`.\n",
        "  2. Đưa ảnh đã xử lý vào mô hình và lấy đầu ra dự đoán.\n",
        "  3. Xác định lớp dự đoán (lớp nhỏ) dựa trên chỉ số xác suất cao nhất.\n",
        "  4. Dựa trên lớp nhỏ, xác định lớp lớn tương ứng (theo chỉ số).\n",
        "  5. Trả về thông tin ảnh, lớp nhỏ, và lớp lớn đã được dự đoán."
      ],
      "metadata": {
        "id": "p5kjXPeoErAO"
      }
    },
    {
      "cell_type": "code",
      "source": [
        "# 7.4. Hàm dự đoán lớp của ảnh\n",
        "def predict_image(model, image_path):\n",
        "    \"\"\"\n",
        "    Dự đoán lớp của ảnh và trả về thông tin:\n",
        "    - Ảnh gốc, kích thước ảnh sau chuẩn hóa, chỉ số lớp dự đoán, tên lớp nhỏ, và lớp lớn.\n",
        "    \"\"\"\n",
        "    original_image, processed_image = preprocess_image(image_path)                       # Tiền xử lý ảnh\n",
        "    with torch.no_grad():                                                                # Tắt tính toán gradient\n",
        "        output = model(processed_image)                                                  # Dự đoán đầu ra từ mô hình\n",
        "        _, predicted = output.max(1)                                                     # Lấy chỉ số lớp có xác suất cao nhất\n",
        "    predicted_index = predicted.item()                                                   # Chỉ số lớp dự đoán\n",
        "    predicted_class = class_names[predicted_index]                                       # Lấy tên lớp từ chỉ số\n",
        "    predicted_coarse_class = coarse_names[predicted_index // 5]                          # Lấy tên lớp lớn từ chỉ số\n",
        "    return original_image, processed_image.size(), predicted_index, predicted_class, predicted_coarse_class"
      ],
      "metadata": {
        "id": "-ZEokVdJExhl"
      },
      "execution_count": null,
      "outputs": []
    },
    {
      "cell_type": "markdown",
      "source": [
        "## **7.5. Hàm xử lý và hiển thị kết quả**\n",
        "- **Chức năng:** Xử lý file ảnh được người dùng tải lên và hiển thị kết quả dự đoán.\n",
        "- **Quy trình thực hiện:**\n",
        "  1. Nhận file ảnh được tải lên từ người dùng thông qua giao diện.\n",
        "  2. Lưu file ảnh vào bộ nhớ tạm để sử dụng.\n",
        "  3. Hiển thị thông báo \"Đang tiến hành dự đoán...\" để báo hiệu hệ thống đang xử lý.\n",
        "  4. Gọi hàm `predict_image` để dự đoán lớp của ảnh.\n",
        "  5. Hiển thị các thông tin dự đoán:\n",
        "     - Tên file ảnh.\n",
        "     - Kích thước gốc của ảnh.\n",
        "     - Kích thước ảnh sau chuẩn hóa.\n",
        "     - Lớp dự đoán (cả lớp nhỏ và lớp lớn)."
      ],
      "metadata": {
        "id": "vqkrN3HTFUX8"
      }
    },
    {
      "cell_type": "code",
      "source": [
        "# 7.5. Giao diện hiển thị kết quả và xử lý tải ảnh\n",
        "output_widget = widgets.Output()                                                         # Widget hiển thị kết quả dự đoán\n",
        "loading_label = widgets.HTML(value=\"\")                                                   # Nhãn hiển thị trạng thái \"Đang tiến hành dự đoán...\"\n",
        "\n",
        "def on_file_upload(change):\n",
        "    \"\"\"\n",
        "    Hàm xử lý khi người dùng tải ảnh lên:\n",
        "    - Hiển thị trạng thái \"Đang tiến hành dự đoán...\"\n",
        "    - Gọi hàm dự đoán và hiển thị kết quả.\n",
        "    \"\"\"\n",
        "    uploaded_file = next(iter(change['new'].values()))                                   # Lấy file ảnh được tải lên\n",
        "    image_path = uploaded_file['metadata']['name']\n",
        "    with open(image_path, 'wb') as f:\n",
        "        f.write(uploaded_file['content'])                                                # Lưu file ảnh vào đường dẫn\n",
        "\n",
        "    # Hiển thị trạng thái \"Đang tiến hành dự đoán...\"\n",
        "    loading_label.value = \"<p style='font-size: 16px; color: #d32f2f;'>Đang tiến hành dự đoán...</p>\"\n",
        "\n",
        "    # Dự đoán kết quả\n",
        "    original_image, processed_size, predicted_index, predicted_class, predicted_coarse_class = predict_image(model, image_path)\n",
        "\n",
        "    # Chuyển đổi ảnh gốc sang Base64 để hiển thị\n",
        "    buffer = BytesIO()\n",
        "    original_image.save(buffer, format=\"PNG\")\n",
        "    img_base64_input = base64.b64encode(buffer.getvalue()).decode(\"utf-8\")\n",
        "\n",
        "    # Mô phỏng ảnh đầu ra từ mô hình (dùng ảnh gốc resize lại trong trường hợp này)\n",
        "    output_image = original_image.resize((32, 32))\n",
        "    buffer_output = BytesIO()\n",
        "    output_image.save(buffer_output, format=\"PNG\")\n",
        "    img_base64_output = base64.b64encode(buffer_output.getvalue()).decode(\"utf-8\")\n",
        "\n",
        "    # Hiển thị kết quả dự đoán\n",
        "    with output_widget:\n",
        "        output_widget.clear_output()\n",
        "        display(widgets.HTML(value=f\"\"\"\n",
        "        <div style='\n",
        "            display: flex;\n",
        "            flex-direction: column;\n",
        "            align-items: center;\n",
        "            justify-content: center;\n",
        "            border: 5px solid #1565c0;\n",
        "            border-radius: 15px;\n",
        "            padding: 25px;\n",
        "            max-width: 500px;\n",
        "            margin: 0 auto;\n",
        "            background-color: #ffffff;'>\n",
        "\n",
        "            <h2 style='color: #1565c0; font-size: 18px; text-align:center;'>🎯 Kết quả dự đoán</h2>\n",
        "            <p style='font-size: 16px; color: #000000;'><b>Tên file ảnh:</b> {uploaded_file['metadata']['name']}</p>\n",
        "            <p style='font-size: 16px; color: #000000;'><b>Kích thước gốc:</b> {original_image.size}</p>\n",
        "            <p style='font-size: 16px; color: #000000;'><b>Kích thước sau chuẩn hóa:</b> {processed_size}</p>\n",
        "            <p style='font-size: 16px; color: #000000;'><b>Vị trí lớp:</b> {predicted_index + 1} / 100</p>\n",
        "            <p style='font-size: 16px; color: #000000;'><b>Lớp dự đoán:</b>\n",
        "                <span style='color:#d32f2f; font-weight:bold;'>{predicted_class}</span>\n",
        "            </p>\n",
        "            <p style='font-size: 16px; color: #000000;'><b>Thuộc lớp lớn:</b>\n",
        "                <span style='color:#1565c0; font-weight:bold;'>{predicted_coarse_class}</span>\n",
        "            </p>\n",
        "            <div style=\"display: flex; justify-content: center; align-items: center; margin-top: 15px;\">\n",
        "                <div style=\"margin-right: 15px; text-align: center;\">\n",
        "                    <p style=\"font-size: 16px; font-weight: bold; color: #1565c0;\">Ảnh đầu vào</p>\n",
        "                    <img src=\"data:image/png;base64,{img_base64_input}\" alt=\"Ảnh đầu vào\" style=\"max-width: 150px; max-height: 150px; border-radius: 10px; border: 1px solid #ccc;\"/>\n",
        "                </div>\n",
        "                <div style=\"text-align: center;\">\n",
        "                    <p style=\"font-size: 16px; font-weight: bold; color: #1565c0;\">Ảnh đầu ra</p>\n",
        "                    <img src=\"data:image/png;base64,{img_base64_output}\" alt=\"Ảnh đầu ra\" style=\"max-width: 150px; max-height: 150px; border-radius: 10px; border: 1px solid #ccc;\"/>\n",
        "                </div>\n",
        "            </div>\n",
        "        </div>\n",
        "        \"\"\"))\n",
        "\n",
        "    # Ẩn thông báo \"Đang tiến hành dự đoán...\"\n",
        "    loading_label.value = \"\""
      ],
      "metadata": {
        "id": "IicTfAGSFkQV"
      },
      "execution_count": null,
      "outputs": []
    },
    {
      "cell_type": "markdown",
      "source": [
        "## **7.6. Hàm tạo nút upload ảnh**\n",
        "- **Chức năng:** Tạo một nút tải ảnh để người dùng chọn file ảnh cần dự đoán.\n",
        "- **Mô tả chi tiết:**\n",
        "  - Sử dụng widget `FileUpload` để tạo giao diện tải ảnh.\n",
        "  - Cho phép người dùng tải lên một ảnh duy nhất.\n",
        "  - Kết nối sự kiện tải ảnh với hàm xử lý `on_file_upload` để tự động xử lý và hiển thị kết quả."
      ],
      "metadata": {
        "id": "Ce6LtElLFwgN"
      }
    },
    {
      "cell_type": "code",
      "source": [
        "# 7.6. Tạo nút upload ảnh\n",
        "upload_button = widgets.FileUpload(accept='image/*', multiple=False, description=\"Tải lên\")                  # Nút tải ảnh với nhãn \"Tải lên\"\n",
        "upload_button.observe(on_file_upload, names='value')"
      ],
      "metadata": {
        "id": "3cFdmJbFFyTK"
      },
      "execution_count": null,
      "outputs": []
    },
    {
      "cell_type": "markdown",
      "source": [
        "## **7.7. Tải mô hình và chạy giao diện**\n",
        "- **Chức năng:** Tải mô hình đã được huấn luyện và tạo giao diện để người dùng dự đoán.\n",
        "- **Quy trình thực hiện:**\n",
        "  1. Kiểm tra thiết bị phù hợp để chạy mô hình (GPU hoặc CPU).\n",
        "  2. Tải mô hình đã được huấn luyện từ file checkpoint.\n",
        "  3. Xây dựng giao diện chính bao gồm:\n",
        "     - Tiêu đề và hướng dẫn sử dụng.\n",
        "     - Nút tải ảnh.\n",
        "     - Vùng hiển thị trạng thái dự đoán.\n",
        "     - Vùng hiển thị kết quả dự đoán.\n",
        "  4. Hiển thị giao diện để người dùng sử dụng."
      ],
      "metadata": {
        "id": "ZGZZHdRZF2BP"
      }
    },
    {
      "cell_type": "code",
      "source": [
        "# 7.7. Tải mô hình và hiển thị giao diện\n",
        "device = torch.device(\"cuda\" if torch.cuda.is_available() else \"cpu\")                                                         # Kiểm tra lại GPU hay CPU\n",
        "model = load_model(checkpoint_path)                                                                                           # Tải mô hình từ checkpoint ở mục 7.2.\n",
        "\n",
        "# Tạo giao diện chính\n",
        "interface = widgets.VBox([\n",
        "    widgets.HTML(value=\"<h3 style='color: #ffffff; font-size: 16px; text-align:center; padding: 10px; border-radius: 10px;'>🌟 Tải hình ảnh để thực hiện dự đoán:</h3>\", layout=widgets.Layout(margin='0 0 20px 0')),\n",
        "    widgets.HBox([upload_button], layout=widgets.Layout(justify_content='center', margin='0 0 20px 0')),                      # Nút tải ảnh được căn giữa\n",
        "    loading_label,                                                                                                            # Hiển thị trạng thái xử lý dự đoán\n",
        "    output_widget                                                                                                             # Hiển thị kết quả dự đoán\n",
        "], layout=widgets.Layout(align_items='center', border_radius='10px', padding='20px', background_color='#f9f9f9'))\n",
        "\n",
        "# Hiển thị giao diện\n",
        "display(interface)"
      ],
      "metadata": {
        "id": "BZ7OcdTYF7iS"
      },
      "execution_count": null,
      "outputs": []
    },
    {
      "cell_type": "markdown",
      "source": [
        "# **8. Trực quan hóa kết quả**"
      ],
      "metadata": {
        "id": "w3tHRW0UQuV_"
      }
    },
    {
      "cell_type": "markdown",
      "source": [
        "## **8.1. Xem dữ liệu từ file JSON**\n",
        "\n",
        "### **Mục tiêu**\n",
        "- Đọc file JSON đã lưu thông tin về kết quả huấn luyện:\n",
        "  - **Train Losses:** Giá trị loss trung bình trên tập huấn luyện qua từng epoch.\n",
        "  - **Validation Losses:** Giá trị loss trung bình trên tập validation qua từng epoch.\n",
        "  - **Validation Accuracies:** Độ chính xác trên tập validation qua từng epoch.\n",
        "  - **Epoch Times:** Thời gian huấn luyện mỗi epoch.\n",
        "  - **Best Accuracy:** Độ chính xác cao nhất đạt được."
      ],
      "metadata": {
        "id": "QuC0xCP6Q3Mz"
      }
    },
    {
      "cell_type": "code",
      "source": [
        "# 8.1.. Đường dẫn đến file JSON chứa dữ liệu huấn luyện\n",
        "json_file_path = '/content/drive/MyDrive/training_results.json'\n",
        "\n",
        "# 8.1.1. Đọc file JSON và nạp dữ liệu\n",
        "with open(json_file_path, 'r') as f:\n",
        "    training_data = json.load(f)\n",
        "\n",
        "# 8.1.2. Gán dữ liệu vào các biến để sử dụng\n",
        "train_losses = training_data[\"train_losses\"]                                     # Loss trên tập huấn luyện\n",
        "val_losses = training_data[\"val_losses\"]                                         # Loss trên tập validation\n",
        "val_accuracies = training_data[\"val_accuracies\"]                                 # Độ chính xác trên tập validation\n",
        "epoch_times = training_data[\"epoch_times\"]                                       # Thời gian huấn luyện mỗi epoch\n",
        "best_accuracy = training_data[\"best_accuracy\"]                                   # Độ chính xác cao nhất\n",
        "\n",
        "# 8.1,3. In ra thông tin từ file JSON để kiểm tra\n",
        "print(f\"Train Losses: {train_losses[:5]} ...\")                                   # Hiển thị 5 giá trị đầu tiên của train_losses\n",
        "print(f\"Validation Losses: {val_losses[:5]} ...\")\n",
        "print(f\"Validation Accuracies: {val_accuracies[:5]} ...\")\n",
        "print(f\"Epoch Times: {epoch_times[:5]} ...\")\n",
        "print(f\"Best Accuracy: {best_accuracy:.2f}%\")"
      ],
      "metadata": {
        "id": "RUu1R-r1Lj3_"
      },
      "execution_count": null,
      "outputs": []
    },
    {
      "cell_type": "markdown",
      "source": [
        "## **8.2. Xem dữ liệu từ file Checkpoint**\n",
        "\n",
        "### **Mục tiêu**\n",
        "- Nạp thông tin từ file checkpoint đã lưu trong quá trình huấn luyện mô hình, bao gồm:\n",
        "  - **Model State Dict:** Trạng thái của mô hình được lưu tại thời điểm checkpoint.\n",
        "  - **Optimizer State Dict:** Trạng thái của optimizer.\n",
        "  - **Scheduler State Dict:** Trạng thái của scheduler.\n",
        "  - **Checkpoint Epoch:** Epoch tại thời điểm checkpoint.\n",
        "  - **Best Validation Accuracy:** Độ chính xác cao nhất đạt được trên tập validation."
      ],
      "metadata": {
        "id": "NieyB-XXDU_P"
      }
    },
    {
      "cell_type": "code",
      "source": [
        "# 8.2.1. Đường dẫn checkpoint\n",
        "checkpoint_path = '/content/drive/MyDrive/vgg11_best_checkpoint.pth'\n",
        "\n",
        "# 8.2.2. Tải checkpoint\n",
        "checkpoint = torch.load(checkpoint_path, map_location=device, weights_only=True)\n",
        "\n",
        "# 8.2.3. Nạp trạng thái mô hình\n",
        "model.load_state_dict(checkpoint['model_state_dict'])\n",
        "model.eval()  # Đặt mô hình ở chế độ đánh giá\n",
        "\n",
        "# 8.2.4. Nạp trạng thái optimizer\n",
        "optimizer.load_state_dict(checkpoint['optimizer_state_dict'])\n",
        "\n",
        "# 8.2.5. Nạp trạng thái scheduler\n",
        "scheduler.load_state_dict(checkpoint['scheduler_state_dict'])\n",
        "\n",
        "# 8.2.6. In thông tin checkpoint\n",
        "print(f\"Checkpoint epoch: {checkpoint['epoch']}\")\n",
        "print(f\"Best validation accuracy: {checkpoint['best_accuracy']:.2f}%\")"
      ],
      "metadata": {
        "id": "lIG_DCMVDohI"
      },
      "execution_count": null,
      "outputs": []
    },
    {
      "cell_type": "markdown",
      "source": [
        "## **8.3. Biểu đồ Loss**\n",
        "### **A. Mục tiêu**:\n",
        "  - Đánh giá quá trình hội tụ của mô hình qua từng epoch.\n",
        "  - Phát hiện các vấn đề như overfitting hoặc underfitting.\n",
        "\n",
        "### **B. Nhận xét biểu đồ**:\n",
        "  - **Train Loss** giảm nhanh và tiệm cận 0, cho thấy mô hình học tốt trên tập huấn luyện.\n",
        "  - **Validation Loss** ổn định nhưng không giảm mạnh như **Train Loss**, thể hiện mô hình có dấu hiệu overfitting.\n"
      ],
      "metadata": {
        "id": "hF9Fz7XIS5VM"
      }
    },
    {
      "cell_type": "code",
      "source": [
        "# 8.3. Vẽ biểu đồ Loss\n",
        "plt.figure(figsize=(10, 6))\n",
        "plt.plot(range(1, len(train_losses) + 1), train_losses, label=\"Train Loss\", color='blue', linewidth=1)\n",
        "plt.plot(range(1, len(val_losses) + 1), val_losses, label=\"Validation Loss\", color='orange', linewidth=1)\n",
        "plt.xlabel(\"Epochs\", fontsize=14)\n",
        "plt.ylabel(\"Loss\", fontsize=14)\n",
        "plt.title(\"Biểu đồ Loss qua từng Epoch\", fontsize=16, fontweight=\"bold\")\n",
        "plt.legend(fontsize=12)\n",
        "plt.grid(True)\n",
        "plt.show()"
      ],
      "metadata": {
        "id": "nJPoJHE3LTxq"
      },
      "execution_count": null,
      "outputs": []
    },
    {
      "cell_type": "markdown",
      "source": [
        "## **8.4. Biểu đồ Accuracy**\n",
        "\n",
        "### **A. Mục tiêu**:\n",
        "  - Đánh giá khả năng tổng quát hóa của mô hình qua từng epoch.\n",
        "  - Kiểm tra sự cải thiện độ chính xác trên tập validation.\n",
        "\n",
        "### **B. Nhận xét biểu đồ**:\n",
        "  - **Validation Accuracy** tăng nhanh trong 50 epoch đầu, cho thấy mô hình học tốt và nhanh chóng cải thiện độ chính xác.\n",
        "  - Sau khoảng epoch 200, **Validation Accuracy** ổn định và tiệm cận 70%, thể hiện mô hình đạt mức hội tụ tốt.\n",
        "  - Không có hiện tượng giảm độ chính xác đáng kể, cho thấy mô hình không bị overfitting nghiêm trọng."
      ],
      "metadata": {
        "id": "ie83igYnWxcE"
      }
    },
    {
      "cell_type": "code",
      "source": [
        "# Vẽ biểu đồ Accuracy với cải thiện chú thích\n",
        "plt.figure(figsize=(10, 6))\n",
        "plt.plot(range(1, len(val_accuracies) + 1), val_accuracies, label=\"Validation Accuracy\", color='green', linewidth=0.6)\n",
        "\n",
        "# Tìm epoch có độ chính xác cao nhất\n",
        "max_acc = max(val_accuracies)                                                                                          # Giá trị cao nhất\n",
        "max_epoch = val_accuracies.index(max_acc) + 1                                                                          # Epoch tương ứng (cộng 1 vì index bắt đầu từ 0)\n",
        "\n",
        "# Thêm điểm đánh dấu nhỏ hơn tại giá trị cao nhất\n",
        "plt.scatter(max_epoch, max_acc, color='red', s=70, zorder=5, label=f\"Highest Accuracy ({max_acc:.2f}%)\")\n",
        "\n",
        "# Thêm đường chỉ dẫn (arrow) tới điểm cao nhất và điều chỉnh vị trí chú thích\n",
        "plt.annotate(\n",
        "    f\"{max_acc:.2f}%\",                                                                                                 # Nội dung chú thích\n",
        "    xy=(max_epoch, max_acc),                                                                                           # Tọa độ đầu (điểm đánh dấu)\n",
        "    xytext=(max_epoch - 40, max_acc - 7),                                                                              # Đẩy chú thích xa hơn (điều chỉnh tọa độ cuối)\n",
        "    arrowprops=dict(facecolor='black', arrowstyle=\"->\", lw=1.5),                                                       # Định dạng mũi tên\n",
        "    fontsize=12, color='black', ha='center'                                                                            # Định dạng chữ\n",
        ")\n",
        "\n",
        "# Định dạng biểu đồ\n",
        "plt.xlabel(\"Epochs\", fontsize=14)\n",
        "plt.ylabel(\"Accuracy (%)\", fontsize=14)\n",
        "plt.title(\"Biểu đồ Accuracy qua từng Epoch\", fontsize=16, fontweight=\"bold\")\n",
        "plt.legend(fontsize=12, loc='lower right')                                                                             # Đặt chú thích ở góc dưới phải\n",
        "plt.grid(True, linestyle='--', alpha=0.7)                                                                              # Thêm lưới với độ mờ\n",
        "plt.tight_layout()                                                                                                     # Tự động điều chỉnh để không bị tràn\n",
        "plt.show()"
      ],
      "metadata": {
        "id": "eHAJ8CU7XE2o"
      },
      "execution_count": null,
      "outputs": []
    },
    {
      "cell_type": "markdown",
      "source": [
        "## **8.5. Biểu đồ thời gian huấn luyện**\n",
        "\n",
        "### **A. Mục tiêu**:\n",
        "  - Trực quan hóa thời gian huấn luyện của mỗi epoch.\n",
        "  - Xác định thời gian huấn luyện nhanh nhất và chậm nhất.\n",
        "  - Phân tích thời gian huấn luyện của epoch có độ chính xác cao nhất.\n",
        "\n",
        "### **B. Nhận xét biểu đồ**:\n",
        "  - Thời gian huấn luyện dao động qua từng epoch, phụ thuộc vào tính toán GPU/CPU và dữ liệu.\n",
        "  - Epoch nhanh nhất và chậm nhất có thể giúp tối ưu hóa hiệu suất huấn luyện.\n",
        "  - Thời gian huấn luyện của epoch có độ chính xác cao nhất cũng là một tham chiếu quan trọng."
      ],
      "metadata": {
        "id": "WuAJOQACYXYh"
      }
    },
    {
      "cell_type": "code",
      "source": [
        "# Tìm thời gian huấn luyện nhanh nhất, chậm nhất và của epoch có độ chính xác cao nhất\n",
        "min_time = min(epoch_times)                                                                                      # Thời gian thấp nhất\n",
        "max_time = max(epoch_times)                                                                                      # Thời gian cao nhất\n",
        "min_time_epoch = epoch_times.index(min_time) + 1                                                                 # Epoch tương ứng với thời gian thấp nhất\n",
        "max_time_epoch = epoch_times.index(max_time) + 1                                                                 # Epoch tương ứng với thời gian cao nhất\n",
        "best_acc_epoch = val_accuracies.index(best_accuracy) + 1                                                         # Epoch có độ chính xác cao nhất\n",
        "best_acc_epoch_time = epoch_times[best_acc_epoch - 1]                                                            # Thời gian của epoch có % cao nhất\n",
        "\n",
        "# Vẽ biểu đồ thời gian huấn luyện qua từng epoch với các điểm đánh dấu rõ ràng\n",
        "plt.figure(figsize=(10, 6))\n",
        "plt.plot(range(1, len(epoch_times) + 1), epoch_times, label=\"Thời gian từng Epoch\", color='blue', linewidth=0.4)\n",
        "\n",
        "# Đánh dấu thời gian nhanh nhất và chậm nhất\n",
        "plt.scatter(min_time_epoch, min_time, color='green', s=70, zorder=5,\n",
        "            label=f\"Epoch nhanh nhất (Epoch {min_time_epoch}, {min_time:.2f}s)\")\n",
        "plt.scatter(max_time_epoch, max_time, color='red', s=70, zorder=5,\n",
        "            label=f\"Epoch chậm nhất (Epoch {max_time_epoch}, {max_time:.2f}s)\")\n",
        "\n",
        "# Đánh dấu thời gian của epoch có độ chính xác cao nhất\n",
        "plt.scatter(best_acc_epoch, best_acc_epoch_time, color='orange', s=70, zorder=5,\n",
        "            label=f\"Độ chính xác cao nhất (Epoch {best_acc_epoch}, {best_acc_epoch_time:.2f}s)\")\n",
        "\n",
        "# Thêm đường chỉ dẫn (arrow) cho các điểm đánh dấu và chỉnh vị trí hiển thị\n",
        "plt.annotate(f\"{min_time:.2f}s\", xy=(min_time_epoch, min_time),\n",
        "             xytext=(min_time_epoch - 15, min_time + 2),                                                          # Chỉnh vị trí xa khỏi đường\n",
        "             arrowprops=dict(facecolor='green', arrowstyle=\"->\"), fontsize=10, color='green')\n",
        "plt.annotate(f\"{max_time:.2f}s\", xy=(max_time_epoch, max_time),\n",
        "             xytext=(max_time_epoch + 15, max_time - 2),                                                          # Chỉnh vị trí xa khỏi đường\n",
        "             arrowprops=dict(facecolor='red', arrowstyle=\"->\"), fontsize=10, color='red')\n",
        "plt.annotate(f\"{best_acc_epoch_time:.2f}s\", xy=(best_acc_epoch, best_acc_epoch_time),\n",
        "             xytext=(best_acc_epoch + 20, best_acc_epoch_time + 2),                                               # Chỉnh vị trí xa hơn\n",
        "             arrowprops=dict(facecolor='orange', arrowstyle=\"->\"), fontsize=10, color='orange')\n",
        "\n",
        "# Định dạng biểu đồ\n",
        "plt.xlabel(\"Số lượng Epoch\", fontsize=14)\n",
        "plt.ylabel(\"Thời gian (giây)\", fontsize=14)\n",
        "plt.title(\"Thời gian huấn luyện qua từng Epoch\", fontsize=16, fontweight=\"bold\")\n",
        "plt.legend(fontsize=12)\n",
        "plt.grid(True, linestyle='--', alpha=0.7)\n",
        "plt.tight_layout()                                                                                                # Tự động điều chỉnh để không bị tràn\n",
        "plt.show()"
      ],
      "metadata": {
        "id": "XwO65NJ4YhHB"
      },
      "execution_count": null,
      "outputs": []
    }
  ]
}